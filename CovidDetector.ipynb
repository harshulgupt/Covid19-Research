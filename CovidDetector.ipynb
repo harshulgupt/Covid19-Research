{
  "nbformat": 4,
  "nbformat_minor": 0,
  "metadata": {
    "colab": {
      "name": "CovidDetector.ipynb",
      "provenance": []
    },
    "kernelspec": {
      "name": "python3",
      "display_name": "Python 3"
    }
  },
  "cells": [
    {
      "cell_type": "code",
      "metadata": {
        "colab": {
          "base_uri": "https://localhost:8080/"
        },
        "id": "77_TcFfBiykf",
        "outputId": "fccbc770-bdc0-4906-f010-cff69fcb7dc8"
      },
      "source": [
        "!wget https://www.dropbox.com/s/vynypakezgqkchf/CovidDataset.rar?dl=0"
      ],
      "execution_count": null,
      "outputs": [
        {
          "output_type": "stream",
          "text": [
            "--2020-11-28 09:59:03--  https://www.dropbox.com/s/vynypakezgqkchf/CovidDataset.rar?dl=0\n",
            "Resolving www.dropbox.com (www.dropbox.com)... 162.125.5.1, 2620:100:601d:1::a27d:501\n",
            "Connecting to www.dropbox.com (www.dropbox.com)|162.125.5.1|:443... connected.\n",
            "HTTP request sent, awaiting response... 301 Moved Permanently\n",
            "Location: /s/raw/vynypakezgqkchf/CovidDataset.rar [following]\n",
            "--2020-11-28 09:59:04--  https://www.dropbox.com/s/raw/vynypakezgqkchf/CovidDataset.rar\n",
            "Reusing existing connection to www.dropbox.com:443.\n",
            "HTTP request sent, awaiting response... 302 Found\n",
            "Location: https://ucf8badccb00a71e08eecaf3cf2d.dl.dropboxusercontent.com/cd/0/inline/BEDVXcRlL5Q3gxSt-xvhYD4PN4J3X0-1AS304XAN5f-eoFGJwnc4EiK2lvdPvnzwsSYSuqLZhg9tnU0yRgc2PSBdQ-GatTBmaX10qztukkcDdcCKyllauIHycvC4VuqMxd0/file# [following]\n",
            "--2020-11-28 09:59:04--  https://ucf8badccb00a71e08eecaf3cf2d.dl.dropboxusercontent.com/cd/0/inline/BEDVXcRlL5Q3gxSt-xvhYD4PN4J3X0-1AS304XAN5f-eoFGJwnc4EiK2lvdPvnzwsSYSuqLZhg9tnU0yRgc2PSBdQ-GatTBmaX10qztukkcDdcCKyllauIHycvC4VuqMxd0/file\n",
            "Resolving ucf8badccb00a71e08eecaf3cf2d.dl.dropboxusercontent.com (ucf8badccb00a71e08eecaf3cf2d.dl.dropboxusercontent.com)... 162.125.9.15, 2620:100:601f:15::a27d:90f\n",
            "Connecting to ucf8badccb00a71e08eecaf3cf2d.dl.dropboxusercontent.com (ucf8badccb00a71e08eecaf3cf2d.dl.dropboxusercontent.com)|162.125.9.15|:443... connected.\n",
            "HTTP request sent, awaiting response... 302 Found\n",
            "Location: /cd/0/inline2/BEC_dOaaIUmgZctr-JCUGMHgWc4jmnx_uhCiSfe4Mt66kbH4Qs-Dz5P0x1lSPFgbUOytSo3Cl9SgonUAgwb4uU03woy1Igb3HhiRwqL0rDWhQ4yBLeNnHt8z0HTtTunTEL4bEAeUXokZQOXmmzGlOLTGp2xQKWkJT2SDLrgvMQvkBj2VQZMrCC3G9XNcE7KWR2VQEbRZOOhs6SM3TGmTwtuD-FFCuRjRkkcj4eyCyUhGqtSuwEM_9wmvnNJD6ujSHb4bGoVmFZIHm8BXNFI1Dnm8D0UcFb3n_5wHvkPcw0QMMSR3ISDelR9RER33mvPk8aj22NkFyd7aP75664ha5CKUDIBotLFKg5ATM8zq-q9rJg/file [following]\n",
            "--2020-11-28 09:59:05--  https://ucf8badccb00a71e08eecaf3cf2d.dl.dropboxusercontent.com/cd/0/inline2/BEC_dOaaIUmgZctr-JCUGMHgWc4jmnx_uhCiSfe4Mt66kbH4Qs-Dz5P0x1lSPFgbUOytSo3Cl9SgonUAgwb4uU03woy1Igb3HhiRwqL0rDWhQ4yBLeNnHt8z0HTtTunTEL4bEAeUXokZQOXmmzGlOLTGp2xQKWkJT2SDLrgvMQvkBj2VQZMrCC3G9XNcE7KWR2VQEbRZOOhs6SM3TGmTwtuD-FFCuRjRkkcj4eyCyUhGqtSuwEM_9wmvnNJD6ujSHb4bGoVmFZIHm8BXNFI1Dnm8D0UcFb3n_5wHvkPcw0QMMSR3ISDelR9RER33mvPk8aj22NkFyd7aP75664ha5CKUDIBotLFKg5ATM8zq-q9rJg/file\n",
            "Reusing existing connection to ucf8badccb00a71e08eecaf3cf2d.dl.dropboxusercontent.com:443.\n",
            "HTTP request sent, awaiting response... 200 OK\n",
            "Length: 169385376 (162M) [application/rar]\n",
            "Saving to: ‘CovidDataset.rar?dl=0.6’\n",
            "\n",
            "CovidDataset.rar?dl 100%[===================>] 161.54M  76.8MB/s    in 2.1s    \n",
            "\n",
            "2020-11-28 09:59:08 (76.8 MB/s) - ‘CovidDataset.rar?dl=0.6’ saved [169385376/169385376]\n",
            "\n"
          ],
          "name": "stdout"
        }
      ]
    },
    {
      "cell_type": "code",
      "metadata": {
        "colab": {
          "base_uri": "https://localhost:8080/"
        },
        "id": "d8QmqxVmlmlK",
        "outputId": "932ca24b-58db-49c8-b24a-42b19cb35db8"
      },
      "source": [
        "!pip install unrar\n"
      ],
      "execution_count": null,
      "outputs": [
        {
          "output_type": "stream",
          "text": [
            "Requirement already satisfied: unrar in /usr/local/lib/python3.6/dist-packages (0.4)\n"
          ],
          "name": "stdout"
        }
      ]
    },
    {
      "cell_type": "code",
      "metadata": {
        "colab": {
          "base_uri": "https://localhost:8080/"
        },
        "id": "4la-Z7F_mBDh",
        "outputId": "2317e68a-884b-4393-f47c-1c493f1bcf0d"
      },
      "source": [
        "!unrar x CovidDataset.rar\\?dl\\=0"
      ],
      "execution_count": null,
      "outputs": [
        {
          "output_type": "stream",
          "text": [
            "\n",
            "UNRAR 5.50 freeware      Copyright (c) 1993-2017 Alexander Roshal\n",
            "\n",
            "Unexpected end of archive\n",
            "\n",
            "Extracting from CovidDataset.rar?dl=0\n",
            "\n",
            "\n",
            "Would you like to replace the existing file CovidDataset/Train/Covid/01E392EE-69F9-4E33-BFCE-E5C968654078.jpeg\n",
            "367441 bytes, modified on 2020-10-12 17:46\n",
            "with a new one\n",
            "367441 bytes, modified on 2020-10-12 17:46\n",
            "\n",
            "[Y]es, [N]o, [A]ll, n[E]ver, [R]ename, [Q]uit Y\n",
            "\n",
            "Extracting  CovidDataset/Train/Covid/01E392EE-69F9-4E33-BFCE-E5C968654078.jpeg     \b\b\b\b  1%\b\b\b\b\b  OK \n",
            "\n",
            "Would you like to replace the existing file CovidDataset/Train/Covid/03BF7561-A9BA-4C3C-B8A0-D3E585F73F3C.jpeg\n",
            "312368 bytes, modified on 2020-10-12 17:46\n",
            "with a new one\n",
            "312368 bytes, modified on 2020-10-12 17:46\n",
            "\n",
            "[Y]es, [N]o, [A]ll, n[E]ver, [R]ename, [Q]uit A\n",
            "\n",
            "Extracting  CovidDataset/Train/Covid/03BF7561-A9BA-4C3C-B8A0-D3E585F73F3C.jpeg     \b\b\b\b  1%\b\b\b\b\b  OK \n",
            "Extracting  CovidDataset/Train/Covid/0a7faa2a.jpg                        \b\b\b\b  4%\b\b\b\b\b  OK \n",
            "Extracting  CovidDataset/Train/Covid/1-s2.0-S0140673620303706-fx1_lrg.jpg     \b\b\b\b  4%\b\b\b\b  5%\b\b\b\b  6%\b\b\b\b\b  OK \n",
            "Extracting  CovidDataset/Train/Covid/1-s2.0-S1684118220300608-main.pdf-001.jpg     \b\b\b\b  6%\b\b\b\b\b  OK \n",
            "Extracting  CovidDataset/Train/Covid/1-s2.0-S1684118220300608-main.pdf-002.jpg     \b\b\b\b  6%\b\b\b\b\b  OK \n",
            "Extracting  CovidDataset/Train/Covid/1-s2.0-S1684118220300682-main.pdf-002-a1.png     \b\b\b\b  7%\b\b\b\b\b  OK \n",
            "Extracting  CovidDataset/Train/Covid/1-s2.0-S1684118220300682-main.pdf-002-a2.png     \b\b\b\b  7%\b\b\b\b\b  OK \n",
            "Extracting  CovidDataset/Train/Covid/1-s2.0-S1684118220300682-main.pdf-003-b1.png     \b\b\b\b  7%\b\b\b\b\b  OK \n",
            "Extracting  CovidDataset/Train/Covid/1-s2.0-S1684118220300682-main.pdf-003-b2.png     \b\b\b\b  8%\b\b\b\b\b  OK \n",
            "Extracting  CovidDataset/Train/Covid/1-s2.0-S2214250920300834-gr1_lrg-b.png     \b\b\b\b  9%\b\b\b\b\b  OK \n",
            "Extracting  CovidDataset/Train/Covid/1-s2.0-S2214250920300834-gr1_lrg-c.png     \b\b\b\b 11%\b\b\b\b\b  OK \n",
            "Extracting  CovidDataset/Train/Covid/1-s2.0-S2387020620301959-gr4_lrg-b.png     \b\b\b\b 11%\b\b\b\b\b  OK \n",
            "Extracting  CovidDataset/Train/Covid/1-s2.0-S2387020620301959-gr4_lrg-c.png     \b\b\b\b 11%\b\b\b\b\b  OK \n",
            "Extracting  CovidDataset/Train/Covid/1.CXRCTThoraximagesofCOVID-19fromSingapore.pdf-000-fig1a.png     \b\b\b\b 12%\b\b\b\b\b  OK \n",
            "Extracting  CovidDataset/Train/Covid/1.CXRCTThoraximagesofCOVID-19fromSingapore.pdf-000-fig1b.png     \b\b\b\b 13%\b\b\b\b\b  OK \n",
            "Extracting  CovidDataset/Train/Covid/1.CXRCTThoraximagesofCOVID-19fromSingapore.pdf-001-fig2a.png     \b\b\b\b 13%\b\b\b\b\b  OK \n",
            "Extracting  CovidDataset/Train/Covid/1.CXRCTThoraximagesofCOVID-19fromSingapore.pdf-001-fig2b.png     \b\b\b\b 14%\b\b\b\b\b  OK \n",
            "Extracting  CovidDataset/Train/Covid/1.CXRCTThoraximagesofCOVID-19fromSingapore.pdf-002-fig3a.png     \b\b\b\b 14%\b\b\b\b\b  OK \n",
            "Extracting  CovidDataset/Train/Covid/1.CXRCTThoraximagesofCOVID-19fromSingapore.pdf-002-fig3b.png     \b\b\b\b 15%\b\b\b\b\b  OK \n",
            "Extracting  CovidDataset/Train/Covid/1.CXRCTThoraximagesofCOVID-19fromSingapore.pdf-003-fig4a.png     \b\b\b\b 15%\b\b\b\b\b  OK \n",
            "Extracting  CovidDataset/Train/Covid/1.CXRCTThoraximagesofCOVID-19fromSingapore.pdf-003-fig4b.png     \b\b\b\b 16%\b\b\b\b\b  OK \n",
            "Extracting  CovidDataset/Train/Covid/10.1016-slash-j.anl.2020.04.002-a.png     \b\b\b\b 16%\b\b\b\b\b  OK \n",
            "Extracting  CovidDataset/Train/Covid/10.1016-slash-j.crad.2020.04.002-a.png     \b\b\b\b 17%\b\b\b\b\b  OK \n",
            "Extracting  CovidDataset/Train/Covid/10.1016-slash-j.crad.2020.04.002-b.png     \b\b\b\b 18%\b\b\b\b 19%\b\b\b\b\b  OK \n",
            "Extracting  CovidDataset/Train/Covid/1052b0fe.jpg                        \b\b\b\b 19%\b\b\b\b 20%\b\b\b\b\b  OK \n",
            "Extracting  CovidDataset/Train/Covid/1141cc2b8b9cc394becce5d978b5a7_jumbo.jpeg     \b\b\b\b 20%\b\b\b\b\b  OK \n",
            "Extracting  CovidDataset/Train/Covid/12941_2020_358_Fig1_HTML.jpg        \b\b\b\b 20%\b\b\b\b\b  OK \n",
            "Extracting  CovidDataset/Train/Covid/1312A392-67A3-4EBF-9319-810CF6DA5EF6.jpeg     \b\b\b\b 21%\b\b\b\b\b  OK \n",
            "Extracting  CovidDataset/Train/Covid/14d81f378173b86cc53f21d2d67040_jumbo.jpeg     \b\b\b\b 22%\b\b\b\b\b  OK \n",
            "Extracting  CovidDataset/Train/Covid/16660_1_1.jpg                       \b\b\b\b 22%\b\b\b\b\b  OK \n",
            "Extracting  CovidDataset/Train/Covid/16660_2_1.jpg                       \b\b\b\b 22%\b\b\b\b\b  OK \n",
            "Extracting  CovidDataset/Train/Covid/16660_3_1.jpg                       \b\b\b\b 22%\b\b\b\b\b  OK \n",
            "Extracting  CovidDataset/Train/Covid/16660_4_1.jpg                       \b\b\b\b 22%\b\b\b\b\b  OK \n",
            "Extracting  CovidDataset/Train/Covid/16660_5_1.jpg                       \b\b\b\b 22%\b\b\b\b\b  OK \n",
            "Extracting  CovidDataset/Train/Covid/16663_1_1.jpg                       \b\b\b\b 23%\b\b\b\b\b  OK \n",
            "Extracting  CovidDataset/Train/Covid/16664_1_1.jpg                       \b\b\b\b 24%\b\b\b\b\b  OK \n",
            "Extracting  CovidDataset/Train/Covid/16669_3_1.jpeg                      \b\b\b\b 25%\b\b\b\b\b  OK \n",
            "Extracting  CovidDataset/Train/Covid/16672_1_1.jpg                       \b\b\b\b 25%\b\b\b\b\b  OK \n",
            "Extracting  CovidDataset/Train/Covid/16708_1_1.jpg                       \b\b\b\b 25%\b\b\b\b\b  OK \n",
            "Extracting  CovidDataset/Train/Covid/16708_4_1.jpg                       \b\b\b\b 26%\b\b\b\b\b  OK \n",
            "Extracting  CovidDataset/Train/Covid/16708_5_1.jpg                       \b\b\b\b 26%\b\b\b\b\b  OK \n",
            "Extracting  CovidDataset/Train/Covid/16745_5_1.png                       \b\b\b\b 28%\b\b\b\b\b  OK \n",
            "Extracting  CovidDataset/Train/Covid/16747_1_1.jpg                       \b\b\b\b 28%\b\b\b\b\b  OK \n",
            "Extracting  CovidDataset/Train/Covid/16865_1_1.jpg                       \b\b\b\b 28%\b\b\b\b\b  OK \n",
            "Extracting  CovidDataset/Train/Covid/16953_3_1.jpg                       \b\b\b\b 28%\b\b\b\b\b  OK \n",
            "Extracting  CovidDataset/Train/Covid/16953_4_1.jpg                       \b\b\b\b 28%\b\b\b\b\b  OK \n",
            "Extracting  CovidDataset/Train/Covid/16953_5_1.jpg                       \b\b\b\b 28%\b\b\b\b\b  OK \n",
            "Extracting  CovidDataset/Train/Covid/19abe1f3.jpg                        \b\b\b\b 30%\b\b\b\b\b  OK \n",
            "Extracting  CovidDataset/Train/Covid/1B734A89-A1BF-49A8-A1D3-66FAFA4FAC5D.jpeg     \b\b\b\b 30%\b\b\b\b\b  OK \n",
            "Extracting  CovidDataset/Train/Covid/2-chest-filmc.jpg                   \b\b\b\b 31%\b\b\b\b\b  OK \n",
            "Extracting  CovidDataset/Train/Covid/2168a917.jpg                        \b\b\b\b 32%\b\b\b\b\b  OK \n",
            "Extracting  CovidDataset/Train/Covid/23E99E2E-447C-46E5-8EB2-D35D12473C39.png     \b\b\b\b 37%\b\b\b\b\b  OK \n",
            "Extracting  CovidDataset/Train/Covid/2966893D-5DDF-4B68-9E2B-4979D5956C8E.jpeg     \b\b\b\b 38%\b\b\b\b\b  OK \n",
            "Extracting  CovidDataset/Train/Covid/2C26F453-AF3B-4517-BB9E-802CF2179543.jpeg     \b\b\b\b 40%\b\b\b\b\b  OK \n",
            "Extracting  CovidDataset/Train/Covid/2cd63b76.jpg                        \b\b\b\b 40%\b\b\b\b 41%\b\b\b\b\b  OK \n",
            "Extracting  CovidDataset/Train/Covid/2edb88df42cab5e5fbc18b3965e0bd_jumbo.jpeg     \b\b\b\b 41%\b\b\b\b\b  OK \n",
            "Extracting  CovidDataset/Train/Covid/353889E0-A1E8-4F9E-A0B8-F24F36BCFBFB.jpeg     \b\b\b\b 46%\b\b\b\b\b  OK \n",
            "Extracting  CovidDataset/Train/Covid/3b46de94.jpg                        \b\b\b\b 47%\b\b\b\b 48%\b\b\b\b\b  OK \n",
            "Extracting  CovidDataset/Train/Covid/40779_2020_233_Fig2_HTML-a.png      \b\b\b\b 49%\b\b\b\b\b  OK \n",
            "Extracting  CovidDataset/Train/Covid/41182_2020_203_Fig3_HTML.jpg        \b\b\b\b 49%\b\b\b\b\b  OK \n",
            "Extracting  CovidDataset/Train/Covid/41182_2020_203_Fig4_HTML.jpg        \b\b\b\b 49%\b\b\b\b\b  OK \n",
            "Extracting  CovidDataset/Train/Covid/41182_2020_203_Fig5_HTML.jpg        \b\b\b\b 49%\b\b\b\b\b  OK \n",
            "Extracting  CovidDataset/Train/Covid/41379_2020_536_Fig2_HTML-c1.png     \b\b\b\b 50%\b\b\b\b\b  OK \n",
            "Extracting  CovidDataset/Train/Covid/41591_2020_819_Fig1_HTML.webp-day10.png     \b\b\b\b 50%\b\b\b\b\b  OK \n",
            "Extracting  CovidDataset/Train/Covid/41591_2020_819_Fig1_HTML.webp-day5.png     \b\b\b\b 50%\b\b\b\b\b  OK \n",
            "Extracting  CovidDataset/Train/Covid/441c9cdd.jpg                        \b\b\b\b 51%\b\b\b\b\b  OK \n",
            "Extracting  CovidDataset/Train/Covid/48c4542c.jpg                        \b\b\b\b 52%\b\b\b\b 53%\b\b\b\b\b  OK \n",
            "Extracting  CovidDataset/Train/Covid/4d98e1de.jpg                        \b\b\b\b 53%\b\b\b\b 54%\b\b\b\b\b  OK \n",
            "Extracting  CovidDataset/Train/Covid/4e43e48d52c9e2d4c6c1fb9bc1544f_jumbo.jpeg     \b\b\b\b 54%\b\b\b\b\b  OK \n",
            "Extracting  CovidDataset/Train/Covid/53EC07C9-5CC6-4BE4-9B6F-D7B0D72AAA7E.jpeg     \b\b\b\b 55%\b\b\b\b\b  OK \n",
            "Extracting  CovidDataset/Train/Covid/5782ae15.jpg                        \b\b\b\b 56%\b\b\b\b\b  OK \n",
            "Extracting  CovidDataset/Train/Covid/58cb9263f16e94305c730685358e4e_jumbo.jpeg     \b\b\b\b 57%\b\b\b\b\b  OK \n",
            "Extracting  CovidDataset/Train/Covid/5f619d7e.jpg                        \b\b\b\b 57%\b\b\b\b 58%\b\b\b\b\b  OK \n",
            "Extracting  CovidDataset/Train/Covid/6b3bdbc31f65230b8cdcc3cef5f8ba8a-40ac-0.jpg     \b\b\b\b 58%\b\b\b\b\b  OK \n",
            "Extracting  CovidDataset/Train/Covid/6b44464d-73a7-4cf3-bbb6-ffe7168300e3.annot.original.jpeg     \b\b\b\b 58%\b\b\b\b\b  OK \n",
            "Extracting  CovidDataset/Train/Covid/6C94A287-C059-46A0-8600-AFB95F4727B7.jpeg     \b\b\b\b 59%\b\b\b\b\b  OK \n",
            "Extracting  CovidDataset/Train/Covid/6CB4EFC6-68FA-4CD5-940C-BEFA8DAFE9A7.jpeg     \b\b\b\b 60%\b\b\b\b\b  OK \n",
            "Extracting  CovidDataset/Train/Covid/7-fatal-covid19.jpg                 \b\b\b\b 60%\b\b\b\b\b  OK \n",
            "Extracting  CovidDataset/Train/Covid/7AF6C1AF-D249-4BD2-8C26-449304105D03.jpeg     \b\b\b\b 61%\b\b\b\b\b  OK \n",
            "Extracting  CovidDataset/Train/Covid/7afaaccc.jpg                        \b\b\b\b 62%\b\b\b\b\b  OK \n",
            "Extracting  CovidDataset/Train/Covid/7C69C012-7479-493F-8722-ABC29C60A2DD.jpeg     \b\b\b\b 63%\b\b\b\b\b  OK \n",
            "Extracting  CovidDataset/Train/Covid/80446565-E090-4187-A031-9D3CEAA586C8.jpeg     \b\b\b\b 63%\b\b\b\b\b  OK \n",
            "Extracting  CovidDataset/Train/Covid/80b5f00f.jpg                        \b\b\b\b 64%\b\b\b\b 65%\b\b\b\b\b  OK \n",
            "Extracting  CovidDataset/Train/Covid/82a78c13.jpg                        \b\b\b\b 66%\b\b\b\b\b  OK \n",
            "Extracting  CovidDataset/Train/Covid/88de9d8c39e946abd495b37cd07d89e5-2ee6-0.jpg     \b\b\b\b 66%\b\b\b\b\b  OK \n",
            "Extracting  CovidDataset/Train/Covid/88de9d8c39e946abd495b37cd07d89e5-6531-0.jpg     \b\b\b\b 66%\b\b\b\b\b  OK \n",
            "Extracting  CovidDataset/Train/Covid/8da14fff.jpg                        \b\b\b\b 67%\b\b\b\b\b  OK \n",
            "Extracting  CovidDataset/Train/Covid/8fc103ca.jpg                        \b\b\b\b 68%\b\b\b\b 69%\b\b\b\b 70%\b\b\b\b\b  OK \n",
            "Extracting  CovidDataset/Train/Covid/8FDE8DBA-CFBD-4B4C-B1A4-6F36A93B7E87.jpeg     \b\b\b\b 70%\b\b\b\b\b  OK \n",
            "Extracting  CovidDataset/Train/Covid/90986ce4.jpg                        \b\b\b\b 72%\b\b\b\b\b  OK \n",
            "Extracting  CovidDataset/Train/Covid/93FE0BB1-022D-4F24-9727-987A07975FFB.jpeg     \b\b\b\b 73%\b\b\b\b\b  OK \n",
            "Extracting  CovidDataset/Train/Covid/9C34AF49-E589-44D5-92D3-168B3B04E4A6.jpeg     \b\b\b\b 74%\b\b\b\b\b  OK \n",
            "Extracting  CovidDataset/Train/Covid/9fdd3c3032296fd04d2cad5d9070d4_jumbo.jpeg     \b\b\b\b 74%\b\b\b\b\b  OK \n",
            "Extracting  CovidDataset/Train/Covid/a2eba651.jpg                        \b\b\b\b 75%\b\b\b\b\b  OK \n",
            "Extracting  CovidDataset/Train/Covid/a8ac1969.jpg                        \b\b\b\b 76%\b\b\b\b 77%\b\b\b\b\b  OK \n",
            "Extracting  CovidDataset/Train/Normal/IM-0115-0001.jpeg                  \b\b\b\b 79%\b\b\b\b\b  OK \n",
            "Extracting  CovidDataset/Train/Normal/IM-0117-0001.jpeg                  \b\b\b\b 80%\b\b\b\b\b  OK \n",
            "Extracting  CovidDataset/Train/Normal/IM-0119-0001.jpeg                  \b\b\b\b 82%\b\b\b\b\b  OK \n",
            "Extracting  CovidDataset/Train/Normal/IM-0122-0001.jpeg                  \b\b\b\b 84%\b\b\b\b\b  OK \n",
            "Extracting  CovidDataset/Train/Normal/IM-0125-0001.jpeg                  \b\b\b\b 85%\b\b\b\b\b  OK \n",
            "Extracting  CovidDataset/Train/Normal/IM-0127-0001.jpeg                  \b\b\b\b 87%\b\b\b\b\b  OK \n",
            "Extracting  CovidDataset/Train/Normal/IM-0128-0001.jpeg                  \b\b\b\b 88%\b\b\b\b\b  OK \n",
            "Extracting  CovidDataset/Train/Normal/IM-0129-0001.jpeg                  \b\b\b\b 89%\b\b\b\b\b  OK \n",
            "Extracting  CovidDataset/Train/Normal/IM-0131-0001.jpeg                  \b\b\b\b 91%\b\b\b\b\b  OK \n",
            "Extracting  CovidDataset/Train/Normal/IM-0133-0001.jpeg                  \b\b\b\b 92%\b\b\b\b\b  OK \n",
            "Extracting  CovidDataset/Train/Normal/IM-0135-0001.jpeg                  \b\b\b\b 94%\b\b\b\b\b  OK \n",
            "Extracting  CovidDataset/Train/Normal/IM-0137-0001.jpeg                  \b\b\b\b 95%\b\b\b\b\b  OK \n",
            "Extracting  CovidDataset/Train/Normal/IM-0140-0001.jpeg                  \b\b\b\b 96%\b\b\b\b\b  OK \n",
            "Extracting  CovidDataset/Train/Normal/IM-0141-0001.jpeg                  \b\b\b\b 98%\b\b\b\b\b  OK \n",
            "Extracting  CovidDataset/Train/Normal/IM-0143-0001.jpeg                  \b\b\b\b 99%\n",
            "CovidDataset/Train/Normal/IM-0143-0001.jpeg - checksum error\n",
            "Unexpected end of archive\n",
            "Total errors: 3\n"
          ],
          "name": "stdout"
        }
      ]
    },
    {
      "cell_type": "code",
      "metadata": {
        "id": "9ac_FJJAmIpY"
      },
      "source": [
        "TRAIN_PATH = \"CovidDataset/Train\"\n",
        "VAL_PATH = \"CovidDataset/Test\""
      ],
      "execution_count": null,
      "outputs": []
    },
    {
      "cell_type": "code",
      "metadata": {
        "id": "bN0IXOdJmLVO"
      },
      "source": [
        "import numpy as np\n",
        "import matplotlib.pyplot as plt\n",
        "import keras\n",
        "from keras.layers import *\n",
        "from keras.models import * \n",
        "from keras.preprocessing import image\n"
      ],
      "execution_count": null,
      "outputs": []
    },
    {
      "cell_type": "code",
      "metadata": {
        "id": "6pRaQYIOgBgI"
      },
      "source": [
        ""
      ],
      "execution_count": null,
      "outputs": []
    },
    {
      "cell_type": "code",
      "metadata": {
        "id": "FfcA2N8YmNd2"
      },
      "source": [
        "\n",
        "\n",
        "model = Sequential()\n",
        "model.add(Conv2D(32,kernel_size=(3,3),activation='relu',input_shape=(224,224,3)))\n",
        "model.add(Conv2D(64,(3,3),activation='relu'))\n",
        "model.add(MaxPooling2D(pool_size=(2,2)))\n",
        "model.add(Dropout(0.25))\n",
        "\n",
        "model.add(Conv2D(64,(3,3),activation='relu'))\n",
        "model.add(MaxPooling2D(pool_size=(2,2)))\n",
        "model.add(Dropout(0.25))\n",
        "\n",
        "model.add(Conv2D(128,(3,3),activation='relu'))\n",
        "model.add(MaxPooling2D(pool_size=(2,2)))\n",
        "model.add(Dropout(0.25))\n",
        "\n",
        "model.add(Flatten())\n",
        "model.add(Dense(64,activation='relu'))\n",
        "model.add(Dropout(0.5))\n",
        "model.add(Dense(1,activation='sigmoid'))\n",
        "\n",
        "model.compile(loss=keras.losses.binary_crossentropy,optimizer='adam',metrics=['accuracy'])"
      ],
      "execution_count": null,
      "outputs": []
    },
    {
      "cell_type": "code",
      "metadata": {
        "colab": {
          "base_uri": "https://localhost:8080/"
        },
        "id": "onmra8JbmQMk",
        "outputId": "c1ba2857-fba5-4b00-c0bd-09d68a500e36"
      },
      "source": [
        "model.summary()"
      ],
      "execution_count": null,
      "outputs": [
        {
          "output_type": "stream",
          "text": [
            "Model: \"sequential_3\"\n",
            "_________________________________________________________________\n",
            "Layer (type)                 Output Shape              Param #   \n",
            "=================================================================\n",
            "conv2d_12 (Conv2D)           (None, 222, 222, 32)      896       \n",
            "_________________________________________________________________\n",
            "conv2d_13 (Conv2D)           (None, 220, 220, 64)      18496     \n",
            "_________________________________________________________________\n",
            "max_pooling2d_9 (MaxPooling2 (None, 110, 110, 64)      0         \n",
            "_________________________________________________________________\n",
            "dropout_12 (Dropout)         (None, 110, 110, 64)      0         \n",
            "_________________________________________________________________\n",
            "conv2d_14 (Conv2D)           (None, 108, 108, 64)      36928     \n",
            "_________________________________________________________________\n",
            "max_pooling2d_10 (MaxPooling (None, 54, 54, 64)        0         \n",
            "_________________________________________________________________\n",
            "dropout_13 (Dropout)         (None, 54, 54, 64)        0         \n",
            "_________________________________________________________________\n",
            "conv2d_15 (Conv2D)           (None, 52, 52, 128)       73856     \n",
            "_________________________________________________________________\n",
            "max_pooling2d_11 (MaxPooling (None, 26, 26, 128)       0         \n",
            "_________________________________________________________________\n",
            "dropout_14 (Dropout)         (None, 26, 26, 128)       0         \n",
            "_________________________________________________________________\n",
            "flatten_3 (Flatten)          (None, 86528)             0         \n",
            "_________________________________________________________________\n",
            "dense_6 (Dense)              (None, 64)                5537856   \n",
            "_________________________________________________________________\n",
            "dropout_15 (Dropout)         (None, 64)                0         \n",
            "_________________________________________________________________\n",
            "dense_7 (Dense)              (None, 1)                 65        \n",
            "=================================================================\n",
            "Total params: 5,668,097\n",
            "Trainable params: 5,668,097\n",
            "Non-trainable params: 0\n",
            "_________________________________________________________________\n"
          ],
          "name": "stdout"
        }
      ]
    },
    {
      "cell_type": "code",
      "metadata": {
        "id": "m1wnLs6-mTkx"
      },
      "source": [
        "# Train\n",
        "train_datagen = image.ImageDataGenerator(\n",
        "    rescale = 1./255,\n",
        "    shear_range = 0.2,\n",
        "    zoom_range = 0.2,\n",
        "    horizontal_flip = True,\n",
        ")\n",
        "\n",
        "test_dataset = image.ImageDataGenerator(rescale=1./255)"
      ],
      "execution_count": null,
      "outputs": []
    },
    {
      "cell_type": "code",
      "metadata": {
        "id": "LKn0z0joEKgV"
      },
      "source": [
        ""
      ],
      "execution_count": null,
      "outputs": []
    },
    {
      "cell_type": "code",
      "metadata": {
        "colab": {
          "base_uri": "https://localhost:8080/"
        },
        "id": "b3VakkH0mV_a",
        "outputId": "17596f3c-0ec3-48f0-a8e7-ef561ac57d83"
      },
      "source": [
        "train_generator = train_datagen.flow_from_directory(\n",
        "    'CovidDataset/Train',\n",
        "    target_size = (224,224),\n",
        "    batch_size = 32,\n",
        "    class_mode = 'binary')"
      ],
      "execution_count": null,
      "outputs": [
        {
          "output_type": "stream",
          "text": [
            "Found 110 images belonging to 2 classes.\n"
          ],
          "name": "stdout"
        }
      ]
    },
    {
      "cell_type": "code",
      "metadata": {
        "colab": {
          "base_uri": "https://localhost:8080/"
        },
        "id": "N0hkt7AbmZor",
        "outputId": "6f362d52-4bf7-4152-d5c7-03ae1e4d99a5"
      },
      "source": [
        "train_generator.class_indices"
      ],
      "execution_count": null,
      "outputs": [
        {
          "output_type": "execute_result",
          "data": {
            "text/plain": [
              "{'Covid': 0, 'Normal': 1}"
            ]
          },
          "metadata": {
            "tags": []
          },
          "execution_count": 47
        }
      ]
    },
    {
      "cell_type": "code",
      "metadata": {
        "colab": {
          "base_uri": "https://localhost:8080/",
          "height": 381
        },
        "id": "ywgySDZdmcDA",
        "outputId": "abba4d87-f97f-4464-823b-32970dd45c5d"
      },
      "source": [
        "validation_generator = test_dataset.flow_from_directory(\n",
        "    'CovidDataset/Val',\n",
        "    target_size = (224,224),\n",
        "    batch_size = 32,\n",
        "    class_mode = 'binary')"
      ],
      "execution_count": null,
      "outputs": [
        {
          "output_type": "error",
          "ename": "FileNotFoundError",
          "evalue": "ignored",
          "traceback": [
            "\u001b[0;31m---------------------------------------------------------------------------\u001b[0m",
            "\u001b[0;31mFileNotFoundError\u001b[0m                         Traceback (most recent call last)",
            "\u001b[0;32m<ipython-input-48-557709aa3bfb>\u001b[0m in \u001b[0;36m<module>\u001b[0;34m()\u001b[0m\n\u001b[1;32m      3\u001b[0m     \u001b[0mtarget_size\u001b[0m \u001b[0;34m=\u001b[0m \u001b[0;34m(\u001b[0m\u001b[0;36m224\u001b[0m\u001b[0;34m,\u001b[0m\u001b[0;36m224\u001b[0m\u001b[0;34m)\u001b[0m\u001b[0;34m,\u001b[0m\u001b[0;34m\u001b[0m\u001b[0;34m\u001b[0m\u001b[0m\n\u001b[1;32m      4\u001b[0m     \u001b[0mbatch_size\u001b[0m \u001b[0;34m=\u001b[0m \u001b[0;36m32\u001b[0m\u001b[0;34m,\u001b[0m\u001b[0;34m\u001b[0m\u001b[0;34m\u001b[0m\u001b[0m\n\u001b[0;32m----> 5\u001b[0;31m     class_mode = 'binary')\n\u001b[0m",
            "\u001b[0;32m/usr/local/lib/python3.6/dist-packages/tensorflow/python/keras/preprocessing/image.py\u001b[0m in \u001b[0;36mflow_from_directory\u001b[0;34m(self, directory, target_size, color_mode, classes, class_mode, batch_size, shuffle, seed, save_to_dir, save_prefix, save_format, follow_links, subset, interpolation)\u001b[0m\n\u001b[1;32m    957\u001b[0m         \u001b[0mfollow_links\u001b[0m\u001b[0;34m=\u001b[0m\u001b[0mfollow_links\u001b[0m\u001b[0;34m,\u001b[0m\u001b[0;34m\u001b[0m\u001b[0;34m\u001b[0m\u001b[0m\n\u001b[1;32m    958\u001b[0m         \u001b[0msubset\u001b[0m\u001b[0;34m=\u001b[0m\u001b[0msubset\u001b[0m\u001b[0;34m,\u001b[0m\u001b[0;34m\u001b[0m\u001b[0;34m\u001b[0m\u001b[0m\n\u001b[0;32m--> 959\u001b[0;31m         interpolation=interpolation)\n\u001b[0m\u001b[1;32m    960\u001b[0m \u001b[0;34m\u001b[0m\u001b[0m\n\u001b[1;32m    961\u001b[0m   def flow_from_dataframe(self,\n",
            "\u001b[0;32m/usr/local/lib/python3.6/dist-packages/tensorflow/python/keras/preprocessing/image.py\u001b[0m in \u001b[0;36m__init__\u001b[0;34m(self, directory, image_data_generator, target_size, color_mode, classes, class_mode, batch_size, shuffle, seed, data_format, save_to_dir, save_prefix, save_format, follow_links, subset, interpolation, dtype)\u001b[0m\n\u001b[1;32m    395\u001b[0m         \u001b[0msubset\u001b[0m\u001b[0;34m=\u001b[0m\u001b[0msubset\u001b[0m\u001b[0;34m,\u001b[0m\u001b[0;34m\u001b[0m\u001b[0;34m\u001b[0m\u001b[0m\n\u001b[1;32m    396\u001b[0m         \u001b[0minterpolation\u001b[0m\u001b[0;34m=\u001b[0m\u001b[0minterpolation\u001b[0m\u001b[0;34m,\u001b[0m\u001b[0;34m\u001b[0m\u001b[0;34m\u001b[0m\u001b[0m\n\u001b[0;32m--> 397\u001b[0;31m         **kwargs)\n\u001b[0m\u001b[1;32m    398\u001b[0m \u001b[0;34m\u001b[0m\u001b[0m\n\u001b[1;32m    399\u001b[0m \u001b[0;34m\u001b[0m\u001b[0m\n",
            "\u001b[0;32m/usr/local/lib/python3.6/dist-packages/keras_preprocessing/image/directory_iterator.py\u001b[0m in \u001b[0;36m__init__\u001b[0;34m(self, directory, image_data_generator, target_size, color_mode, classes, class_mode, batch_size, shuffle, seed, data_format, save_to_dir, save_prefix, save_format, follow_links, subset, interpolation, dtype)\u001b[0m\n\u001b[1;32m    113\u001b[0m         \u001b[0;32mif\u001b[0m \u001b[0;32mnot\u001b[0m \u001b[0mclasses\u001b[0m\u001b[0;34m:\u001b[0m\u001b[0;34m\u001b[0m\u001b[0;34m\u001b[0m\u001b[0m\n\u001b[1;32m    114\u001b[0m             \u001b[0mclasses\u001b[0m \u001b[0;34m=\u001b[0m \u001b[0;34m[\u001b[0m\u001b[0;34m]\u001b[0m\u001b[0;34m\u001b[0m\u001b[0;34m\u001b[0m\u001b[0m\n\u001b[0;32m--> 115\u001b[0;31m             \u001b[0;32mfor\u001b[0m \u001b[0msubdir\u001b[0m \u001b[0;32min\u001b[0m \u001b[0msorted\u001b[0m\u001b[0;34m(\u001b[0m\u001b[0mos\u001b[0m\u001b[0;34m.\u001b[0m\u001b[0mlistdir\u001b[0m\u001b[0;34m(\u001b[0m\u001b[0mdirectory\u001b[0m\u001b[0;34m)\u001b[0m\u001b[0;34m)\u001b[0m\u001b[0;34m:\u001b[0m\u001b[0;34m\u001b[0m\u001b[0;34m\u001b[0m\u001b[0m\n\u001b[0m\u001b[1;32m    116\u001b[0m                 \u001b[0;32mif\u001b[0m \u001b[0mos\u001b[0m\u001b[0;34m.\u001b[0m\u001b[0mpath\u001b[0m\u001b[0;34m.\u001b[0m\u001b[0misdir\u001b[0m\u001b[0;34m(\u001b[0m\u001b[0mos\u001b[0m\u001b[0;34m.\u001b[0m\u001b[0mpath\u001b[0m\u001b[0;34m.\u001b[0m\u001b[0mjoin\u001b[0m\u001b[0;34m(\u001b[0m\u001b[0mdirectory\u001b[0m\u001b[0;34m,\u001b[0m \u001b[0msubdir\u001b[0m\u001b[0;34m)\u001b[0m\u001b[0;34m)\u001b[0m\u001b[0;34m:\u001b[0m\u001b[0;34m\u001b[0m\u001b[0;34m\u001b[0m\u001b[0m\n\u001b[1;32m    117\u001b[0m                     \u001b[0mclasses\u001b[0m\u001b[0;34m.\u001b[0m\u001b[0mappend\u001b[0m\u001b[0;34m(\u001b[0m\u001b[0msubdir\u001b[0m\u001b[0;34m)\u001b[0m\u001b[0;34m\u001b[0m\u001b[0;34m\u001b[0m\u001b[0m\n",
            "\u001b[0;31mFileNotFoundError\u001b[0m: [Errno 2] No such file or directory: 'CovidDataset/Val'"
          ]
        }
      ]
    },
    {
      "cell_type": "code",
      "metadata": {
        "colab": {
          "base_uri": "https://localhost:8080/"
        },
        "id": "SK1YBZlymfV5",
        "outputId": "2a385a8f-b761-413e-dc5a-f8065768c9c9"
      },
      "source": [
        "hist = model.fit_generator(\n",
        "    train_generator,\n",
        "    steps_per_epoch=6,\n",
        "    epochs = 10,\n",
        "    validation_data = validation_generator,\n",
        "    validation_steps=2\n",
        ")"
      ],
      "execution_count": null,
      "outputs": [
        {
          "output_type": "stream",
          "text": [
            "WARNING:tensorflow:From <ipython-input-12-e660bfd9e6ac>:6: Model.fit_generator (from tensorflow.python.keras.engine.training) is deprecated and will be removed in a future version.\n",
            "Instructions for updating:\n",
            "Please use Model.fit, which supports generators.\n",
            "Epoch 1/10\n",
            "6/6 [==============================] - 52s 9s/step - loss: 1.3602 - accuracy: 0.5208 - val_loss: 0.6881 - val_accuracy: 0.5312\n",
            "Epoch 2/10\n",
            "6/6 [==============================] - 50s 8s/step - loss: 0.6494 - accuracy: 0.6510 - val_loss: 0.5904 - val_accuracy: 0.9531\n",
            "Epoch 3/10\n",
            "6/6 [==============================] - 50s 8s/step - loss: 0.4443 - accuracy: 0.8281 - val_loss: 0.3324 - val_accuracy: 0.9062\n",
            "Epoch 4/10\n",
            "6/6 [==============================] - 51s 8s/step - loss: 0.3614 - accuracy: 0.8490 - val_loss: 0.3702 - val_accuracy: 0.9219\n",
            "Epoch 5/10\n",
            "6/6 [==============================] - 50s 8s/step - loss: 0.2810 - accuracy: 0.8958 - val_loss: 0.2769 - val_accuracy: 0.9062\n",
            "Epoch 6/10\n",
            "6/6 [==============================] - 54s 9s/step - loss: 0.1732 - accuracy: 0.9271 - val_loss: 0.1544 - val_accuracy: 0.9531\n",
            "Epoch 7/10\n",
            "6/6 [==============================] - 50s 8s/step - loss: 0.2829 - accuracy: 0.9219 - val_loss: 0.2901 - val_accuracy: 0.9844\n",
            "Epoch 8/10\n",
            "6/6 [==============================] - 51s 8s/step - loss: 0.2582 - accuracy: 0.9323 - val_loss: 0.1930 - val_accuracy: 0.9531\n",
            "Epoch 9/10\n",
            "6/6 [==============================] - 51s 8s/step - loss: 0.2638 - accuracy: 0.9062 - val_loss: 0.2902 - val_accuracy: 0.9219\n",
            "Epoch 10/10\n",
            "6/6 [==============================] - 51s 8s/step - loss: 0.2133 - accuracy: 0.9531 - val_loss: 0.1649 - val_accuracy: 0.9688\n"
          ],
          "name": "stdout"
        }
      ]
    },
    {
      "cell_type": "code",
      "metadata": {
        "colab": {
          "base_uri": "https://localhost:8080/",
          "height": 1000
        },
        "id": "n14MgKicgD4V",
        "outputId": "5f1f21aa-1fef-4cc9-b607-c26bdf409970"
      },
      "source": [
        "from tensorflow.keras.utils import plot_model\n",
        "plot_model(model)"
      ],
      "execution_count": null,
      "outputs": [
        {
          "output_type": "execute_result",
          "data": {
            "image/png": "[encoded data removed]",
            "text/plain": [
              "<IPython.core.display.Image object>"
            ]
          },
          "metadata": {
            "tags": []
          },
          "execution_count": 13
        }
      ]
    },
    {
      "cell_type": "code",
      "metadata": {
        "colab": {
          "base_uri": "https://localhost:8080/",
          "height": 253
        },
        "id": "mmtceGmbd55X",
        "outputId": "2a07d981-f2fb-4a1b-8462-a192fbe0cc2b"
      },
      "source": [
        "plt.figure(figsize = (13,7))\n",
        "plt.plot(hist.history[\"accuracy\"])\n",
        "plt.plot(hist.history[\"val_accuracy\"])\n",
        "plt.title(\"Model Accuracy\")\n",
        "plt.ylabel(\"Accuracy\")\n",
        "plt.xlabel(\"Epoch\")\n",
        "plt.legend([\"Train\", \"Test\"], loc = \"upper left\")"
      ],
      "execution_count": null,
      "outputs": [
        {
          "output_type": "error",
          "ename": "NameError",
          "evalue": "ignored",
          "traceback": [
            "\u001b[0;31m---------------------------------------------------------------------------\u001b[0m",
            "\u001b[0;31mNameError\u001b[0m                                 Traceback (most recent call last)",
            "\u001b[0;32m<ipython-input-37-87a69ce333bd>\u001b[0m in \u001b[0;36m<module>\u001b[0;34m()\u001b[0m\n\u001b[1;32m      1\u001b[0m \u001b[0mplt\u001b[0m\u001b[0;34m.\u001b[0m\u001b[0mfigure\u001b[0m\u001b[0;34m(\u001b[0m\u001b[0mfigsize\u001b[0m \u001b[0;34m=\u001b[0m \u001b[0;34m(\u001b[0m\u001b[0;36m13\u001b[0m\u001b[0;34m,\u001b[0m\u001b[0;36m7\u001b[0m\u001b[0;34m)\u001b[0m\u001b[0;34m)\u001b[0m\u001b[0;34m\u001b[0m\u001b[0;34m\u001b[0m\u001b[0m\n\u001b[0;32m----> 2\u001b[0;31m \u001b[0mplt\u001b[0m\u001b[0;34m.\u001b[0m\u001b[0mplot\u001b[0m\u001b[0;34m(\u001b[0m\u001b[0mhist\u001b[0m\u001b[0;34m.\u001b[0m\u001b[0mhistory\u001b[0m\u001b[0;34m[\u001b[0m\u001b[0;34m\"accuracy\"\u001b[0m\u001b[0;34m]\u001b[0m\u001b[0;34m)\u001b[0m\u001b[0;34m\u001b[0m\u001b[0;34m\u001b[0m\u001b[0m\n\u001b[0m\u001b[1;32m      3\u001b[0m \u001b[0mplt\u001b[0m\u001b[0;34m.\u001b[0m\u001b[0mplot\u001b[0m\u001b[0;34m(\u001b[0m\u001b[0mhist\u001b[0m\u001b[0;34m.\u001b[0m\u001b[0mhistory\u001b[0m\u001b[0;34m[\u001b[0m\u001b[0;34m\"val_accuracy\"\u001b[0m\u001b[0;34m]\u001b[0m\u001b[0;34m)\u001b[0m\u001b[0;34m\u001b[0m\u001b[0;34m\u001b[0m\u001b[0m\n\u001b[1;32m      4\u001b[0m \u001b[0mplt\u001b[0m\u001b[0;34m.\u001b[0m\u001b[0mtitle\u001b[0m\u001b[0;34m(\u001b[0m\u001b[0;34m\"Model Accuracy\"\u001b[0m\u001b[0;34m)\u001b[0m\u001b[0;34m\u001b[0m\u001b[0;34m\u001b[0m\u001b[0m\n\u001b[1;32m      5\u001b[0m \u001b[0mplt\u001b[0m\u001b[0;34m.\u001b[0m\u001b[0mylabel\u001b[0m\u001b[0;34m(\u001b[0m\u001b[0;34m\"Accuracy\"\u001b[0m\u001b[0;34m)\u001b[0m\u001b[0;34m\u001b[0m\u001b[0;34m\u001b[0m\u001b[0m\n",
            "\u001b[0;31mNameError\u001b[0m: name 'hist' is not defined"
          ]
        },
        {
          "output_type": "display_data",
          "data": {
            "text/plain": [
              "<Figure size 936x504 with 0 Axes>"
            ]
          },
          "metadata": {
            "tags": []
          }
        }
      ]
    },
    {
      "cell_type": "code",
      "metadata": {
        "colab": {
          "base_uri": "https://localhost:8080/",
          "height": 475
        },
        "id": "Yu1K-SXdh68B",
        "outputId": "f8f08301-1d82-40ff-adaf-490f9a473694"
      },
      "source": [
        "plt.figure(figsize = (13,7))\n",
        "plt.plot(hist.history[\"loss\"])\n",
        "plt.plot(hist.history[\"val_loss\"])\n",
        "plt.title(\"Model Loss\")\n",
        "plt.ylabel(\"Loss\")\n",
        "plt.xlabel(\"Epoch\")\n",
        "plt.legend([\"Train\", \"Test\"], loc = \"upper left\")"
      ],
      "execution_count": null,
      "outputs": [
        {
          "output_type": "execute_result",
          "data": {
            "text/plain": [
              "<matplotlib.legend.Legend at 0x7f8dca416fd0>"
            ]
          },
          "metadata": {
            "tags": []
          },
          "execution_count": 15
        },
        {
          "output_type": "display_data",
          "data": {
            "image/png": "[encoded data removed]",
            "text/plain": [
              "<Figure size 936x504 with 1 Axes>"
            ]
          },
          "metadata": {
            "tags": [],
            "needs_background": "light"
          }
        }
      ]
    },
    {
      "cell_type": "code",
      "metadata": {
        "colab": {
          "base_uri": "https://localhost:8080/"
        },
        "id": "y14hgydcrjaC",
        "outputId": "b94f4926-3469-4c48-bd91-5b07f450a61e"
      },
      "source": [
        "model.evaluate_generator(train_generator)"
      ],
      "execution_count": null,
      "outputs": [
        {
          "output_type": "stream",
          "text": [
            "WARNING:tensorflow:From <ipython-input-16-e4ade065aa26>:1: Model.evaluate_generator (from tensorflow.python.keras.engine.training) is deprecated and will be removed in a future version.\n",
            "Instructions for updating:\n",
            "Please use Model.evaluate, which supports generators.\n"
          ],
          "name": "stdout"
        },
        {
          "output_type": "execute_result",
          "data": {
            "text/plain": [
              "[0.09587374329566956, 0.9635416865348816]"
            ]
          },
          "metadata": {
            "tags": []
          },
          "execution_count": 16
        }
      ]
    },
    {
      "cell_type": "code",
      "metadata": {
        "colab": {
          "base_uri": "https://localhost:8080/"
        },
        "id": "LUVknwnbru9g",
        "outputId": "8ee7c778-9a83-4912-8b93-60d1cadb6fa7"
      },
      "source": [
        "model.evaluate_generator(validation_generator)"
      ],
      "execution_count": null,
      "outputs": [
        {
          "output_type": "execute_result",
          "data": {
            "text/plain": [
              "[0.1559550017118454, 0.9375]"
            ]
          },
          "metadata": {
            "tags": []
          },
          "execution_count": 17
        }
      ]
    },
    {
      "cell_type": "code",
      "metadata": {
        "colab": {
          "base_uri": "https://localhost:8080/"
        },
        "id": "MZl25_OmsFJo",
        "outputId": "f8a62b33-d7b1-4ce0-d0ef-16dceaa9690d"
      },
      "source": [
        "model.save(\"model_adv.h6\")"
      ],
      "execution_count": null,
      "outputs": [
        {
          "output_type": "stream",
          "text": [
            "WARNING:tensorflow:From /usr/local/lib/python3.6/dist-packages/tensorflow/python/training/tracking/tracking.py:111: Model.state_updates (from tensorflow.python.keras.engine.training) is deprecated and will be removed in a future version.\n",
            "Instructions for updating:\n",
            "This property should not be used in TensorFlow 2.0, as updates are applied automatically.\n",
            "WARNING:tensorflow:From /usr/local/lib/python3.6/dist-packages/tensorflow/python/training/tracking/tracking.py:111: Layer.updates (from tensorflow.python.keras.engine.base_layer) is deprecated and will be removed in a future version.\n",
            "Instructions for updating:\n",
            "This property should not be used in TensorFlow 2.0, as updates are applied automatically.\n",
            "INFO:tensorflow:Assets written to: model_adv.h6/assets\n"
          ],
          "name": "stdout"
        }
      ]
    },
    {
      "cell_type": "code",
      "metadata": {
        "id": "iq5QupxQsMLD",
        "colab": {
          "base_uri": "https://localhost:8080/",
          "height": 311
        },
        "outputId": "86c14f45-acc7-43ed-f08c-37cdf8ed01a4"
      },
      "source": [
        "model = load_model('model_adv.h6')"
      ],
      "execution_count": null,
      "outputs": [
        {
          "output_type": "error",
          "ename": "OSError",
          "evalue": "ignored",
          "traceback": [
            "\u001b[0;31m---------------------------------------------------------------------------\u001b[0m",
            "\u001b[0;31mOSError\u001b[0m                                   Traceback (most recent call last)",
            "\u001b[0;32m<ipython-input-52-d8cde220f202>\u001b[0m in \u001b[0;36m<module>\u001b[0;34m()\u001b[0m\n\u001b[0;32m----> 1\u001b[0;31m \u001b[0mmodel\u001b[0m \u001b[0;34m=\u001b[0m \u001b[0mload_model\u001b[0m\u001b[0;34m(\u001b[0m\u001b[0;34m'model_adv.h6'\u001b[0m\u001b[0;34m)\u001b[0m\u001b[0;34m\u001b[0m\u001b[0;34m\u001b[0m\u001b[0m\n\u001b[0m",
            "\u001b[0;32m/usr/local/lib/python3.6/dist-packages/tensorflow/python/keras/saving/save.py\u001b[0m in \u001b[0;36mload_model\u001b[0;34m(filepath, custom_objects, compile, options)\u001b[0m\n\u001b[1;32m    184\u001b[0m     \u001b[0mfilepath\u001b[0m \u001b[0;34m=\u001b[0m \u001b[0mpath_to_string\u001b[0m\u001b[0;34m(\u001b[0m\u001b[0mfilepath\u001b[0m\u001b[0;34m)\u001b[0m\u001b[0;34m\u001b[0m\u001b[0;34m\u001b[0m\u001b[0m\n\u001b[1;32m    185\u001b[0m     \u001b[0;32mif\u001b[0m \u001b[0misinstance\u001b[0m\u001b[0;34m(\u001b[0m\u001b[0mfilepath\u001b[0m\u001b[0;34m,\u001b[0m \u001b[0msix\u001b[0m\u001b[0;34m.\u001b[0m\u001b[0mstring_types\u001b[0m\u001b[0;34m)\u001b[0m\u001b[0;34m:\u001b[0m\u001b[0;34m\u001b[0m\u001b[0;34m\u001b[0m\u001b[0m\n\u001b[0;32m--> 186\u001b[0;31m       \u001b[0mloader_impl\u001b[0m\u001b[0;34m.\u001b[0m\u001b[0mparse_saved_model\u001b[0m\u001b[0;34m(\u001b[0m\u001b[0mfilepath\u001b[0m\u001b[0;34m)\u001b[0m\u001b[0;34m\u001b[0m\u001b[0;34m\u001b[0m\u001b[0m\n\u001b[0m\u001b[1;32m    187\u001b[0m       \u001b[0;32mreturn\u001b[0m \u001b[0msaved_model_load\u001b[0m\u001b[0;34m.\u001b[0m\u001b[0mload\u001b[0m\u001b[0;34m(\u001b[0m\u001b[0mfilepath\u001b[0m\u001b[0;34m,\u001b[0m \u001b[0mcompile\u001b[0m\u001b[0;34m,\u001b[0m \u001b[0moptions\u001b[0m\u001b[0;34m)\u001b[0m\u001b[0;34m\u001b[0m\u001b[0;34m\u001b[0m\u001b[0m\n\u001b[1;32m    188\u001b[0m \u001b[0;34m\u001b[0m\u001b[0m\n",
            "\u001b[0;32m/usr/local/lib/python3.6/dist-packages/tensorflow/python/saved_model/loader_impl.py\u001b[0m in \u001b[0;36mparse_saved_model\u001b[0;34m(export_dir)\u001b[0m\n\u001b[1;32m    111\u001b[0m                   (export_dir,\n\u001b[1;32m    112\u001b[0m                    \u001b[0mconstants\u001b[0m\u001b[0;34m.\u001b[0m\u001b[0mSAVED_MODEL_FILENAME_PBTXT\u001b[0m\u001b[0;34m,\u001b[0m\u001b[0;34m\u001b[0m\u001b[0;34m\u001b[0m\u001b[0m\n\u001b[0;32m--> 113\u001b[0;31m                    constants.SAVED_MODEL_FILENAME_PB))\n\u001b[0m\u001b[1;32m    114\u001b[0m \u001b[0;34m\u001b[0m\u001b[0m\n\u001b[1;32m    115\u001b[0m \u001b[0;34m\u001b[0m\u001b[0m\n",
            "\u001b[0;31mOSError\u001b[0m: SavedModel file does not exist at: model_adv.h6/{saved_model.pbtxt|saved_model.pb}"
          ]
        }
      ]
    },
    {
      "cell_type": "code",
      "metadata": {
        "id": "vUe8FwE8sTtF"
      },
      "source": [
        "import os"
      ],
      "execution_count": null,
      "outputs": []
    },
    {
      "cell_type": "code",
      "metadata": {
        "id": "ZRnmTwm6sYXb"
      },
      "source": [
        "y_test= []\n",
        "y_actual= []"
      ],
      "execution_count": null,
      "outputs": []
    },
    {
      "cell_type": "code",
      "metadata": {
        "id": "ld72ZQqqsc2Q",
        "colab": {
          "base_uri": "https://localhost:8080/"
        },
        "outputId": "cef7abdb-7a9b-4754-dade-4d3b346f0b9f"
      },
      "source": [
        "for i in os.listdir(\"./CovidDataset/Val/Normal/\"):\n",
        "  img = image.load_img(\"./CovidDataset/Val/Normal/\"+i, target_size=(224,224))\n",
        "  img= image.img_to_array(img)\n",
        "  img = np.expand_dims(img, axis = 0)\n",
        "  p = model.predict_classes(img)\n",
        "  y_test.append(p[0,0])\n",
        "  y_actual.append(1)"
      ],
      "execution_count": null,
      "outputs": [
        {
          "output_type": "stream",
          "text": [
            "WARNING:tensorflow:From <ipython-input-22-44a08f343224>:5: Sequential.predict_classes (from tensorflow.python.keras.engine.sequential) is deprecated and will be removed after 2021-01-01.\n",
            "Instructions for updating:\n",
            "Please use instead:* `np.argmax(model.predict(x), axis=-1)`,   if your model does multi-class classification   (e.g. if it uses a `softmax` last-layer activation).* `(model.predict(x) > 0.5).astype(\"int32\")`,   if your model does binary classification   (e.g. if it uses a `sigmoid` last-layer activation).\n"
          ],
          "name": "stdout"
        }
      ]
    },
    {
      "cell_type": "code",
      "metadata": {
        "id": "dzeDqMPosk7T"
      },
      "source": [
        "for i in os.listdir(\"./CovidDataset/Val/Covid/\"):\n",
        "  img = image.load_img(\"./CovidDataset/Val/Covid/\"+i, target_size=(224,224))\n",
        "  img= image.img_to_array(img)\n",
        "  img = np.expand_dims(img, axis = 0)\n",
        "  p = model.predict_classes(img)\n",
        "  y_test.append(p[0,0])\n",
        "  y_actual.append(1)"
      ],
      "execution_count": null,
      "outputs": []
    },
    {
      "cell_type": "code",
      "metadata": {
        "id": "AO3eunxAsucp"
      },
      "source": [
        "y_actual = np.array(y_actual)\n",
        "y_test = np.array(y_test)\n"
      ],
      "execution_count": null,
      "outputs": []
    },
    {
      "cell_type": "code",
      "metadata": {
        "id": "PGpeomDksxOO"
      },
      "source": [
        "from sklearn.metrics import confusion_matrix"
      ],
      "execution_count": null,
      "outputs": []
    },
    {
      "cell_type": "code",
      "metadata": {
        "id": "Wd93eHjKszsV"
      },
      "source": [
        "cm = confusion_matrix(y_actual,y_test)"
      ],
      "execution_count": null,
      "outputs": []
    },
    {
      "cell_type": "code",
      "metadata": {
        "id": "Qe-ZOjwcs11i"
      },
      "source": [
        "import seaborn as sns "
      ],
      "execution_count": null,
      "outputs": []
    },
    {
      "cell_type": "code",
      "metadata": {
        "colab": {
          "base_uri": "https://localhost:8080/",
          "height": 283
        },
        "id": "Ewc34FbEs4tm",
        "outputId": "0b34b991-3204-44c8-84c7-523a6155f2bd"
      },
      "source": [
        "sns.heatmap(cm, cmap=\"plasma\", annot=True)"
      ],
      "execution_count": null,
      "outputs": [
        {
          "output_type": "execute_result",
          "data": {
            "text/plain": [
              "<matplotlib.axes._subplots.AxesSubplot at 0x7f8dc02ff7b8>"
            ]
          },
          "metadata": {
            "tags": []
          },
          "execution_count": 28
        },
        {
          "output_type": "display_data",
          "data": {
            "image/png": "[encoded data removed]",
            "text/plain": [
              "<Figure size 432x288 with 2 Axes>"
            ]
          },
          "metadata": {
            "tags": [],
            "needs_background": "light"
          }
        }
      ]
    },
    {
      "cell_type": "code",
      "metadata": {
        "colab": {
          "base_uri": "https://localhost:8080/",
          "height": 404
        },
        "id": "fCvR_M-lEMW6",
        "outputId": "227d8d82-c6ed-422e-e8a7-d0447e5068bc"
      },
      "source": [
        "f, ax = plt.subplots(figsize = (6,6))\n",
        "sns.heatmap(cm,annot = True, linewidths = 0.3,cmap = \"Blues\",annot_kws = {\"size\": 18}, linecolor = \"black\", fmt = \".0f\", ax=ax )\n",
        "plt.xlabel(\"Prediction\")\n",
        "plt.title(\"Confusion Matrix\")\n",
        "plt.ylabel(\"True\")\n",
        "plt.show()"
      ],
      "execution_count": null,
      "outputs": [
        {
          "output_type": "display_data",
          "data": {
            "image/png": "[encoded data removed]",
            "text/plain": [
              "<Figure size 432x432 with 2 Axes>"
            ]
          },
          "metadata": {
            "tags": [],
            "needs_background": "light"
          }
        }
      ]
    },
    {
      "cell_type": "code",
      "metadata": {
        "id": "iWrkW9Cf1VzV"
      },
      "source": [
        ""
      ],
      "execution_count": null,
      "outputs": []
    }
  ]
}