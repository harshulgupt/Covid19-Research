{
  "nbformat": 4,
  "nbformat_minor": 0,
  "metadata": {
    "colab": {
      "name": "COVID-19 DETECTOR_II .ipynb",
      "provenance": []
    },
    "kernelspec": {
      "name": "python3",
      "display_name": "Python 3"
    }
  },
  "cells": [
    {
      "cell_type": "code",
      "metadata": {
        "colab": {
          "base_uri": "https://localhost:8080/"
        },
        "id": "GBbB2zQLS-2Z",
        "outputId": "7be06064-bfc3-4c55-bb7f-2cde92c0ed7d"
      },
      "source": [
        "!wget https://www.dropbox.com/s/vynypakezgqkchf/CovidDataset.rar?dl=0"
      ],
      "execution_count": null,
      "outputs": [
        {
          "output_type": "stream",
          "text": [
            "--2020-12-01 16:03:23--  https://www.dropbox.com/s/vynypakezgqkchf/CovidDataset.rar?dl=0\n",
            "Resolving www.dropbox.com (www.dropbox.com)... 162.125.5.1, 2620:100:601f:1::a27d:901\n",
            "Connecting to www.dropbox.com (www.dropbox.com)|162.125.5.1|:443... connected.\n",
            "HTTP request sent, awaiting response... 301 Moved Permanently\n",
            "Location: /s/raw/vynypakezgqkchf/CovidDataset.rar [following]\n",
            "--2020-12-01 16:03:24--  https://www.dropbox.com/s/raw/vynypakezgqkchf/CovidDataset.rar\n",
            "Reusing existing connection to www.dropbox.com:443.\n",
            "HTTP request sent, awaiting response... 302 Found\n",
            "Location: https://ucbb68c676397465754654dcc588.dl.dropboxusercontent.com/cd/0/inline/BEQu_9o1Bg3updOMgz8YNnZXEjXntE7JuqkqVzu0iBk0qMlLJsmiOs28YCFD-N9V3w7LrMInnAAEV492FtMxy5I8j9_4CvxbITWbPKV-WYFiSl1fkTjQFInF8nZraxKTJWw/file# [following]\n",
            "--2020-12-01 16:03:24--  https://ucbb68c676397465754654dcc588.dl.dropboxusercontent.com/cd/0/inline/BEQu_9o1Bg3updOMgz8YNnZXEjXntE7JuqkqVzu0iBk0qMlLJsmiOs28YCFD-N9V3w7LrMInnAAEV492FtMxy5I8j9_4CvxbITWbPKV-WYFiSl1fkTjQFInF8nZraxKTJWw/file\n",
            "Resolving ucbb68c676397465754654dcc588.dl.dropboxusercontent.com (ucbb68c676397465754654dcc588.dl.dropboxusercontent.com)... 162.125.5.15, 2620:100:601d:15::a27d:50f\n",
            "Connecting to ucbb68c676397465754654dcc588.dl.dropboxusercontent.com (ucbb68c676397465754654dcc588.dl.dropboxusercontent.com)|162.125.5.15|:443... connected.\n",
            "HTTP request sent, awaiting response... 302 Found\n",
            "Location: /cd/0/inline2/BEQm3Zh8kAFtcKPEmynkzfZUdcfR1SVJcflqV_08ccbTMUkzyPP_JiS5iEDgTJSJQILukEw54TYKKEdx2ATe6CSpSYykM-k6W00jw95rU1sIHi_hTH65ty5_9sFTTkB592SRBuR8K9qSx9SBB8ef9NT6o05F6bkgDc811TeEgmVkOh-nXfibLbeEL4_ygEoVyFbZPt-HOmelnlO_rjrawZ2QSZj-JQAicpWJZbR1sg2gvf4FRExrYkPY1xkYaKdXwAjP-sVlO2O9sKDEPpMUqsOkoPtNostV3rHulnMXqwKx0s5hiIDtaPwIOwyDgpG-usn-nYgfp8G7JOAtUSqkXZZIqYWTgBqx_NlIlC9MVJcm_g/file [following]\n",
            "--2020-12-01 16:03:25--  https://ucbb68c676397465754654dcc588.dl.dropboxusercontent.com/cd/0/inline2/BEQm3Zh8kAFtcKPEmynkzfZUdcfR1SVJcflqV_08ccbTMUkzyPP_JiS5iEDgTJSJQILukEw54TYKKEdx2ATe6CSpSYykM-k6W00jw95rU1sIHi_hTH65ty5_9sFTTkB592SRBuR8K9qSx9SBB8ef9NT6o05F6bkgDc811TeEgmVkOh-nXfibLbeEL4_ygEoVyFbZPt-HOmelnlO_rjrawZ2QSZj-JQAicpWJZbR1sg2gvf4FRExrYkPY1xkYaKdXwAjP-sVlO2O9sKDEPpMUqsOkoPtNostV3rHulnMXqwKx0s5hiIDtaPwIOwyDgpG-usn-nYgfp8G7JOAtUSqkXZZIqYWTgBqx_NlIlC9MVJcm_g/file\n",
            "Reusing existing connection to ucbb68c676397465754654dcc588.dl.dropboxusercontent.com:443.\n",
            "HTTP request sent, awaiting response... 200 OK\n",
            "Length: 169385376 (162M) [application/rar]\n",
            "Saving to: ‘CovidDataset.rar?dl=0’\n",
            "\n",
            "CovidDataset.rar?dl 100%[===================>] 161.54M  48.5MB/s    in 3.3s    \n",
            "\n",
            "2020-12-01 16:03:29 (48.5 MB/s) - ‘CovidDataset.rar?dl=0’ saved [169385376/169385376]\n",
            "\n"
          ],
          "name": "stdout"
        }
      ]
    },
    {
      "cell_type": "code",
      "metadata": {
        "colab": {
          "base_uri": "https://localhost:8080/"
        },
        "id": "P7DAWTQQTEr0",
        "outputId": "989d40f9-5663-4436-e925-dabce125b276"
      },
      "source": [
        "!pip install unrar"
      ],
      "execution_count": null,
      "outputs": [
        {
          "output_type": "stream",
          "text": [
            "Collecting unrar\n",
            "  Downloading https://files.pythonhosted.org/packages/bb/0b/53130ccd483e3db8c8a460cb579bdb21b458d5494d67a261e1a5b273fbb9/unrar-0.4-py3-none-any.whl\n",
            "Installing collected packages: unrar\n",
            "Successfully installed unrar-0.4\n"
          ],
          "name": "stdout"
        }
      ]
    },
    {
      "cell_type": "code",
      "metadata": {
        "colab": {
          "base_uri": "https://localhost:8080/"
        },
        "id": "1CHne16lTLqB",
        "outputId": "6f38c784-19a6-4cfc-868c-472ba53f514b"
      },
      "source": [
        "!unrar x CovidDataset.rar\\?dl\\=0"
      ],
      "execution_count": null,
      "outputs": [
        {
          "output_type": "stream",
          "text": [
            "\n",
            "UNRAR 5.50 freeware      Copyright (c) 1993-2017 Alexander Roshal\n",
            "\n",
            "\n",
            "Extracting from CovidDataset.rar?dl=0\n",
            "\n",
            "Creating    CovidDataset                                              OK\n",
            "Creating    CovidDataset/Train                                        OK\n",
            "Creating    CovidDataset/Train/Covid                                  OK\n",
            "Extracting  CovidDataset/Train/Covid/01E392EE-69F9-4E33-BFCE-E5C968654078.jpeg     \b\b\b\b  0%\b\b\b\b\b  OK \n",
            "Extracting  CovidDataset/Train/Covid/03BF7561-A9BA-4C3C-B8A0-D3E585F73F3C.jpeg     \b\b\b\b  0%\b\b\b\b\b  OK \n",
            "Extracting  CovidDataset/Train/Covid/0a7faa2a.jpg                        \b\b\b\b  0%\b\b\b\b\b  OK \n",
            "Extracting  CovidDataset/Train/Covid/1-s2.0-S0140673620303706-fx1_lrg.jpg     \b\b\b\b  0%\b\b\b\b  1%\b\b\b\b\b  OK \n",
            "Extracting  CovidDataset/Train/Covid/1-s2.0-S1684118220300608-main.pdf-001.jpg     \b\b\b\b  1%\b\b\b\b\b  OK \n",
            "Extracting  CovidDataset/Train/Covid/1-s2.0-S1684118220300608-main.pdf-002.jpg     \b\b\b\b  1%\b\b\b\b\b  OK \n",
            "Extracting  CovidDataset/Train/Covid/1-s2.0-S1684118220300682-main.pdf-002-a1.png     \b\b\b\b  1%\b\b\b\b\b  OK \n",
            "Extracting  CovidDataset/Train/Covid/1-s2.0-S1684118220300682-main.pdf-002-a2.png     \b\b\b\b  1%\b\b\b\b\b  OK \n",
            "Extracting  CovidDataset/Train/Covid/1-s2.0-S1684118220300682-main.pdf-003-b1.png     \b\b\b\b  1%\b\b\b\b\b  OK \n",
            "Extracting  CovidDataset/Train/Covid/1-s2.0-S1684118220300682-main.pdf-003-b2.png     \b\b\b\b  1%\b\b\b\b\b  OK \n",
            "Extracting  CovidDataset/Train/Covid/1-s2.0-S2214250920300834-gr1_lrg-b.png     \b\b\b\b  1%\b\b\b\b\b  OK \n",
            "Extracting  CovidDataset/Train/Covid/1-s2.0-S2214250920300834-gr1_lrg-c.png     \b\b\b\b  2%\b\b\b\b\b  OK \n",
            "Extracting  CovidDataset/Train/Covid/1-s2.0-S2387020620301959-gr4_lrg-b.png     \b\b\b\b  2%\b\b\b\b\b  OK \n",
            "Extracting  CovidDataset/Train/Covid/1-s2.0-S2387020620301959-gr4_lrg-c.png     \b\b\b\b  2%\b\b\b\b\b  OK \n",
            "Extracting  CovidDataset/Train/Covid/1.CXRCTThoraximagesofCOVID-19fromSingapore.pdf-000-fig1a.png     \b\b\b\b  2%\b\b\b\b\b  OK \n",
            "Extracting  CovidDataset/Train/Covid/1.CXRCTThoraximagesofCOVID-19fromSingapore.pdf-000-fig1b.png     \b\b\b\b  2%\b\b\b\b\b  OK \n",
            "Extracting  CovidDataset/Train/Covid/1.CXRCTThoraximagesofCOVID-19fromSingapore.pdf-001-fig2a.png     \b\b\b\b  2%\b\b\b\b\b  OK \n",
            "Extracting  CovidDataset/Train/Covid/1.CXRCTThoraximagesofCOVID-19fromSingapore.pdf-001-fig2b.png     \b\b\b\b  2%\b\b\b\b\b  OK \n",
            "Extracting  CovidDataset/Train/Covid/1.CXRCTThoraximagesofCOVID-19fromSingapore.pdf-002-fig3a.png     \b\b\b\b  2%\b\b\b\b\b  OK \n",
            "Extracting  CovidDataset/Train/Covid/1.CXRCTThoraximagesofCOVID-19fromSingapore.pdf-002-fig3b.png     \b\b\b\b  3%\b\b\b\b\b  OK \n",
            "Extracting  CovidDataset/Train/Covid/1.CXRCTThoraximagesofCOVID-19fromSingapore.pdf-003-fig4a.png     \b\b\b\b  3%\b\b\b\b\b  OK \n",
            "Extracting  CovidDataset/Train/Covid/1.CXRCTThoraximagesofCOVID-19fromSingapore.pdf-003-fig4b.png     \b\b\b\b  3%\b\b\b\b\b  OK \n",
            "Extracting  CovidDataset/Train/Covid/10.1016-slash-j.anl.2020.04.002-a.png     \b\b\b\b  3%\b\b\b\b\b  OK \n",
            "Extracting  CovidDataset/Train/Covid/10.1016-slash-j.crad.2020.04.002-a.png     \b\b\b\b  3%\b\b\b\b\b  OK \n",
            "Extracting  CovidDataset/Train/Covid/10.1016-slash-j.crad.2020.04.002-b.png     \b\b\b\b  3%\b\b\b\b\b  OK \n",
            "Extracting  CovidDataset/Train/Covid/1052b0fe.jpg                        \b\b\b\b  3%\b\b\b\b  4%\b\b\b\b\b  OK \n",
            "Extracting  CovidDataset/Train/Covid/1141cc2b8b9cc394becce5d978b5a7_jumbo.jpeg     \b\b\b\b  4%\b\b\b\b\b  OK \n",
            "Extracting  CovidDataset/Train/Covid/12941_2020_358_Fig1_HTML.jpg        \b\b\b\b  4%\b\b\b\b\b  OK \n",
            "Extracting  CovidDataset/Train/Covid/1312A392-67A3-4EBF-9319-810CF6DA5EF6.jpeg     \b\b\b\b  4%\b\b\b\b\b  OK \n",
            "Extracting  CovidDataset/Train/Covid/14d81f378173b86cc53f21d2d67040_jumbo.jpeg     \b\b\b\b  4%\b\b\b\b\b  OK \n",
            "Extracting  CovidDataset/Train/Covid/16660_1_1.jpg                       \b\b\b\b  4%\b\b\b\b\b  OK \n",
            "Extracting  CovidDataset/Train/Covid/16660_2_1.jpg                       \b\b\b\b  4%\b\b\b\b\b  OK \n",
            "Extracting  CovidDataset/Train/Covid/16660_3_1.jpg                       \b\b\b\b  4%\b\b\b\b\b  OK \n",
            "Extracting  CovidDataset/Train/Covid/16660_4_1.jpg                       \b\b\b\b  4%\b\b\b\b\b  OK \n",
            "Extracting  CovidDataset/Train/Covid/16660_5_1.jpg                       \b\b\b\b  4%\b\b\b\b\b  OK \n",
            "Extracting  CovidDataset/Train/Covid/16663_1_1.jpg                       \b\b\b\b  4%\b\b\b\b\b  OK \n",
            "Extracting  CovidDataset/Train/Covid/16664_1_1.jpg                       \b\b\b\b  4%\b\b\b\b\b  OK \n",
            "Extracting  CovidDataset/Train/Covid/16669_3_1.jpeg                      \b\b\b\b  5%\b\b\b\b\b  OK \n",
            "Extracting  CovidDataset/Train/Covid/16672_1_1.jpg                       \b\b\b\b  5%\b\b\b\b\b  OK \n",
            "Extracting  CovidDataset/Train/Covid/16708_1_1.jpg                       \b\b\b\b  5%\b\b\b\b\b  OK \n",
            "Extracting  CovidDataset/Train/Covid/16708_4_1.jpg                       \b\b\b\b  5%\b\b\b\b\b  OK \n",
            "Extracting  CovidDataset/Train/Covid/16708_5_1.jpg                       \b\b\b\b  5%\b\b\b\b\b  OK \n",
            "Extracting  CovidDataset/Train/Covid/16745_5_1.png                       \b\b\b\b  5%\b\b\b\b\b  OK \n",
            "Extracting  CovidDataset/Train/Covid/16747_1_1.jpg                       \b\b\b\b  5%\b\b\b\b\b  OK \n",
            "Extracting  CovidDataset/Train/Covid/16865_1_1.jpg                       \b\b\b\b  5%\b\b\b\b\b  OK \n",
            "Extracting  CovidDataset/Train/Covid/16953_3_1.jpg                       \b\b\b\b  5%\b\b\b\b\b  OK \n",
            "Extracting  CovidDataset/Train/Covid/16953_4_1.jpg                       \b\b\b\b  5%\b\b\b\b\b  OK \n",
            "Extracting  CovidDataset/Train/Covid/16953_5_1.jpg                       \b\b\b\b  5%\b\b\b\b\b  OK \n",
            "Extracting  CovidDataset/Train/Covid/19abe1f3.jpg                        \b\b\b\b  6%\b\b\b\b\b  OK \n",
            "Extracting  CovidDataset/Train/Covid/1B734A89-A1BF-49A8-A1D3-66FAFA4FAC5D.jpeg     \b\b\b\b  6%\b\b\b\b\b  OK \n",
            "Extracting  CovidDataset/Train/Covid/2-chest-filmc.jpg                   \b\b\b\b  6%\b\b\b\b\b  OK \n",
            "Extracting  CovidDataset/Train/Covid/2168a917.jpg                        \b\b\b\b  6%\b\b\b\b\b  OK \n",
            "Extracting  CovidDataset/Train/Covid/23E99E2E-447C-46E5-8EB2-D35D12473C39.png     \b\b\b\b  7%\b\b\b\b\b  OK \n",
            "Extracting  CovidDataset/Train/Covid/2966893D-5DDF-4B68-9E2B-4979D5956C8E.jpeg     \b\b\b\b  7%\b\b\b\b\b  OK \n",
            "Extracting  CovidDataset/Train/Covid/2C26F453-AF3B-4517-BB9E-802CF2179543.jpeg     \b\b\b\b  8%\b\b\b\b\b  OK \n",
            "Extracting  CovidDataset/Train/Covid/2cd63b76.jpg                        \b\b\b\b  8%\b\b\b\b\b  OK \n",
            "Extracting  CovidDataset/Train/Covid/2edb88df42cab5e5fbc18b3965e0bd_jumbo.jpeg     \b\b\b\b  8%\b\b\b\b\b  OK \n",
            "Extracting  CovidDataset/Train/Covid/353889E0-A1E8-4F9E-A0B8-F24F36BCFBFB.jpeg     \b\b\b\b  9%\b\b\b\b\b  OK \n",
            "Extracting  CovidDataset/Train/Covid/3b46de94.jpg                        \b\b\b\b  9%\b\b\b\b\b  OK \n",
            "Extracting  CovidDataset/Train/Covid/40779_2020_233_Fig2_HTML-a.png      \b\b\b\b  9%\b\b\b\b\b  OK \n",
            "Extracting  CovidDataset/Train/Covid/41182_2020_203_Fig3_HTML.jpg        \b\b\b\b  9%\b\b\b\b\b  OK \n",
            "Extracting  CovidDataset/Train/Covid/41182_2020_203_Fig4_HTML.jpg        \b\b\b\b  9%\b\b\b\b\b  OK \n",
            "Extracting  CovidDataset/Train/Covid/41182_2020_203_Fig5_HTML.jpg        \b\b\b\b 10%\b\b\b\b\b  OK \n",
            "Extracting  CovidDataset/Train/Covid/41379_2020_536_Fig2_HTML-c1.png     \b\b\b\b 10%\b\b\b\b\b  OK \n",
            "Extracting  CovidDataset/Train/Covid/41591_2020_819_Fig1_HTML.webp-day10.png     \b\b\b\b 10%\b\b\b\b\b  OK \n",
            "Extracting  CovidDataset/Train/Covid/41591_2020_819_Fig1_HTML.webp-day5.png     \b\b\b\b 10%\b\b\b\b\b  OK \n",
            "Extracting  CovidDataset/Train/Covid/441c9cdd.jpg                        \b\b\b\b 10%\b\b\b\b\b  OK \n",
            "Extracting  CovidDataset/Train/Covid/48c4542c.jpg                        \b\b\b\b 10%\b\b\b\b\b  OK \n",
            "Extracting  CovidDataset/Train/Covid/4d98e1de.jpg                        \b\b\b\b 10%\b\b\b\b\b  OK \n",
            "Extracting  CovidDataset/Train/Covid/4e43e48d52c9e2d4c6c1fb9bc1544f_jumbo.jpeg     \b\b\b\b 10%\b\b\b\b\b  OK \n",
            "Extracting  CovidDataset/Train/Covid/53EC07C9-5CC6-4BE4-9B6F-D7B0D72AAA7E.jpeg     \b\b\b\b 11%\b\b\b\b\b  OK \n",
            "Extracting  CovidDataset/Train/Covid/5782ae15.jpg                        \b\b\b\b 11%\b\b\b\b\b  OK \n",
            "Extracting  CovidDataset/Train/Covid/58cb9263f16e94305c730685358e4e_jumbo.jpeg     \b\b\b\b 11%\b\b\b\b\b  OK \n",
            "Extracting  CovidDataset/Train/Covid/5f619d7e.jpg                        \b\b\b\b 11%\b\b\b\b\b  OK \n",
            "Extracting  CovidDataset/Train/Covid/6b3bdbc31f65230b8cdcc3cef5f8ba8a-40ac-0.jpg     \b\b\b\b 11%\b\b\b\b\b  OK \n",
            "Extracting  CovidDataset/Train/Covid/6b44464d-73a7-4cf3-bbb6-ffe7168300e3.annot.original.jpeg     \b\b\b\b 11%\b\b\b\b\b  OK \n",
            "Extracting  CovidDataset/Train/Covid/6C94A287-C059-46A0-8600-AFB95F4727B7.jpeg     \b\b\b\b 11%\b\b\b\b\b  OK \n",
            "Extracting  CovidDataset/Train/Covid/6CB4EFC6-68FA-4CD5-940C-BEFA8DAFE9A7.jpeg     \b\b\b\b 12%\b\b\b\b\b  OK \n",
            "Extracting  CovidDataset/Train/Covid/7-fatal-covid19.jpg                 \b\b\b\b 12%\b\b\b\b\b  OK \n",
            "Extracting  CovidDataset/Train/Covid/7AF6C1AF-D249-4BD2-8C26-449304105D03.jpeg     \b\b\b\b 12%\b\b\b\b\b  OK \n",
            "Extracting  CovidDataset/Train/Covid/7afaaccc.jpg                        \b\b\b\b 12%\b\b\b\b\b  OK \n",
            "Extracting  CovidDataset/Train/Covid/7C69C012-7479-493F-8722-ABC29C60A2DD.jpeg     \b\b\b\b 12%\b\b\b\b\b  OK \n",
            "Extracting  CovidDataset/Train/Covid/80446565-E090-4187-A031-9D3CEAA586C8.jpeg     \b\b\b\b 12%\b\b\b\b\b  OK \n",
            "Extracting  CovidDataset/Train/Covid/80b5f00f.jpg                        \b\b\b\b 12%\b\b\b\b 13%\b\b\b\b\b  OK \n",
            "Extracting  CovidDataset/Train/Covid/82a78c13.jpg                        \b\b\b\b 13%\b\b\b\b\b  OK \n",
            "Extracting  CovidDataset/Train/Covid/88de9d8c39e946abd495b37cd07d89e5-2ee6-0.jpg     \b\b\b\b 13%\b\b\b\b\b  OK \n",
            "Extracting  CovidDataset/Train/Covid/88de9d8c39e946abd495b37cd07d89e5-6531-0.jpg     \b\b\b\b 13%\b\b\b\b\b  OK \n",
            "Extracting  CovidDataset/Train/Covid/8da14fff.jpg                        \b\b\b\b 13%\b\b\b\b\b  OK \n",
            "Extracting  CovidDataset/Train/Covid/8fc103ca.jpg                        \b\b\b\b 13%\b\b\b\b 14%\b\b\b\b\b  OK \n",
            "Extracting  CovidDataset/Train/Covid/8FDE8DBA-CFBD-4B4C-B1A4-6F36A93B7E87.jpeg     \b\b\b\b 14%\b\b\b\b\b  OK \n",
            "Extracting  CovidDataset/Train/Covid/90986ce4.jpg                        \b\b\b\b 14%\b\b\b\b\b  OK \n",
            "Extracting  CovidDataset/Train/Covid/93FE0BB1-022D-4F24-9727-987A07975FFB.jpeg     \b\b\b\b 14%\b\b\b\b\b  OK \n",
            "Extracting  CovidDataset/Train/Covid/9C34AF49-E589-44D5-92D3-168B3B04E4A6.jpeg     \b\b\b\b 14%\b\b\b\b\b  OK \n",
            "Extracting  CovidDataset/Train/Covid/9fdd3c3032296fd04d2cad5d9070d4_jumbo.jpeg     \b\b\b\b 14%\b\b\b\b\b  OK \n",
            "Extracting  CovidDataset/Train/Covid/a2eba651.jpg                        \b\b\b\b 15%\b\b\b\b\b  OK \n",
            "Extracting  CovidDataset/Train/Covid/a8ac1969.jpg                        \b\b\b\b 15%\b\b\b\b\b  OK \n",
            "Creating    CovidDataset/Train/Normal                                 OK\n",
            "Extracting  CovidDataset/Train/Normal/IM-0115-0001.jpeg                  \b\b\b\b 15%\b\b\b\b\b  OK \n",
            "Extracting  CovidDataset/Train/Normal/IM-0117-0001.jpeg                  \b\b\b\b 16%\b\b\b\b\b  OK \n",
            "Extracting  CovidDataset/Train/Normal/IM-0119-0001.jpeg                  \b\b\b\b 16%\b\b\b\b\b  OK \n",
            "Extracting  CovidDataset/Train/Normal/IM-0122-0001.jpeg                  \b\b\b\b 16%\b\b\b\b\b  OK \n",
            "Extracting  CovidDataset/Train/Normal/IM-0125-0001.jpeg                  \b\b\b\b 17%\b\b\b\b\b  OK \n",
            "Extracting  CovidDataset/Train/Normal/IM-0127-0001.jpeg                  \b\b\b\b 17%\b\b\b\b\b  OK \n",
            "Extracting  CovidDataset/Train/Normal/IM-0128-0001.jpeg                  \b\b\b\b 17%\b\b\b\b\b  OK \n",
            "Extracting  CovidDataset/Train/Normal/IM-0129-0001.jpeg                  \b\b\b\b 17%\b\b\b\b\b  OK \n",
            "Extracting  CovidDataset/Train/Normal/IM-0131-0001.jpeg                  \b\b\b\b 18%\b\b\b\b\b  OK \n",
            "Extracting  CovidDataset/Train/Normal/IM-0133-0001.jpeg                  \b\b\b\b 18%\b\b\b\b\b  OK \n",
            "Extracting  CovidDataset/Train/Normal/IM-0135-0001.jpeg                  \b\b\b\b 18%\b\b\b\b\b  OK \n",
            "Extracting  CovidDataset/Train/Normal/IM-0137-0001.jpeg                  \b\b\b\b 19%\b\b\b\b\b  OK \n",
            "Extracting  CovidDataset/Train/Normal/IM-0140-0001.jpeg                  \b\b\b\b 19%\b\b\b\b\b  OK \n",
            "Extracting  CovidDataset/Train/Normal/IM-0141-0001.jpeg                  \b\b\b\b 19%\b\b\b\b\b  OK \n",
            "Extracting  CovidDataset/Train/Normal/IM-0143-0001.jpeg                  \b\b\b\b 20%\b\b\b\b\b  OK \n",
            "Extracting  CovidDataset/Train/Normal/IM-0145-0001.jpeg                  \b\b\b\b 20%\b\b\b\b\b  OK \n",
            "Extracting  CovidDataset/Train/Normal/IM-0147-0001.jpeg                  \b\b\b\b 21%\b\b\b\b\b  OK \n",
            "Extracting  CovidDataset/Train/Normal/IM-0149-0001.jpeg                  \b\b\b\b 21%\b\b\b\b\b  OK \n",
            "Extracting  CovidDataset/Train/Normal/IM-0151-0001.jpeg                  \b\b\b\b 21%\b\b\b\b\b  OK \n",
            "Extracting  CovidDataset/Train/Normal/IM-0152-0001.jpeg                  \b\b\b\b 22%\b\b\b\b\b  OK \n",
            "Extracting  CovidDataset/Train/Normal/IM-0154-0001.jpeg                  \b\b\b\b 22%\b\b\b\b\b  OK \n",
            "Extracting  CovidDataset/Train/Normal/IM-0156-0001.jpeg                  \b\b\b\b 22%\b\b\b\b\b  OK \n",
            "Extracting  CovidDataset/Train/Normal/IM-0158-0001.jpeg                  \b\b\b\b 22%\b\b\b\b\b  OK \n",
            "Extracting  CovidDataset/Train/Normal/IM-0160-0001.jpeg                  \b\b\b\b 23%\b\b\b\b\b  OK \n",
            "Extracting  CovidDataset/Train/Normal/IM-0162-0001.jpeg                  \b\b\b\b 23%\b\b\b\b\b  OK \n",
            "Extracting  CovidDataset/Train/Normal/IM-0164-0001.jpeg                  \b\b\b\b 23%\b\b\b\b\b  OK \n",
            "Extracting  CovidDataset/Train/Normal/IM-0166-0001.jpeg                  \b\b\b\b 24%\b\b\b\b\b  OK \n",
            "Extracting  CovidDataset/Train/Normal/IM-0168-0001.jpeg                  \b\b\b\b 24%\b\b\b\b\b  OK \n",
            "Extracting  CovidDataset/Train/Normal/IM-0170-0001.jpeg                  \b\b\b\b 25%\b\b\b\b\b  OK \n",
            "Extracting  CovidDataset/Train/Normal/IM-0172-0001.jpeg                  \b\b\b\b 25%\b\b\b\b\b  OK \n",
            "Extracting  CovidDataset/Train/Normal/IM-0176-0001.jpeg                  \b\b\b\b 25%\b\b\b\b\b  OK \n",
            "Extracting  CovidDataset/Train/Normal/IM-0177-0001.jpeg                  \b\b\b\b 26%\b\b\b\b\b  OK \n",
            "Extracting  CovidDataset/Train/Normal/IM-0178-0001.jpeg                  \b\b\b\b 26%\b\b\b\b\b  OK \n",
            "Extracting  CovidDataset/Train/Normal/IM-0180-0001.jpeg                  \b\b\b\b 27%\b\b\b\b\b  OK \n",
            "Extracting  CovidDataset/Train/Normal/IM-0182-0001.jpeg                  \b\b\b\b 27%\b\b\b\b\b  OK \n",
            "Extracting  CovidDataset/Train/Normal/IM-0183-0001.jpeg                  \b\b\b\b 28%\b\b\b\b\b  OK \n",
            "Extracting  CovidDataset/Train/Normal/IM-0185-0001.jpeg                  \b\b\b\b 28%\b\b\b\b\b  OK \n",
            "Extracting  CovidDataset/Train/Normal/IM-0187-0001.jpeg                  \b\b\b\b 28%\b\b\b\b\b  OK \n",
            "Extracting  CovidDataset/Train/Normal/IM-0189-0001.jpeg                  \b\b\b\b 28%\b\b\b\b\b  OK \n",
            "Extracting  CovidDataset/Train/Normal/IM-0191-0001.jpeg                  \b\b\b\b 29%\b\b\b\b\b  OK \n",
            "Extracting  CovidDataset/Train/Normal/IM-0193-0001.jpeg                  \b\b\b\b 30%\b\b\b\b\b  OK \n",
            "Extracting  CovidDataset/Train/Normal/IM-0195-0001.jpeg                  \b\b\b\b 30%\b\b\b\b\b  OK \n",
            "Extracting  CovidDataset/Train/Normal/IM-0199-0001.jpeg                  \b\b\b\b 30%\b\b\b\b\b  OK \n",
            "Extracting  CovidDataset/Train/Normal/IM-0201-0001.jpeg                  \b\b\b\b 30%\b\b\b\b\b  OK \n",
            "Extracting  CovidDataset/Train/Normal/IM-0203-0001.jpeg                  \b\b\b\b 31%\b\b\b\b\b  OK \n",
            "Extracting  CovidDataset/Train/Normal/IM-0205-0001.jpeg                  \b\b\b\b 31%\b\b\b\b\b  OK \n",
            "Extracting  CovidDataset/Train/Normal/IM-0206-0001.jpeg                  \b\b\b\b 31%\b\b\b\b\b  OK \n",
            "Extracting  CovidDataset/Train/Normal/IM-0207-0001.jpeg                  \b\b\b\b 31%\b\b\b\b\b  OK \n",
            "Extracting  CovidDataset/Train/Normal/IM-0209-0001.jpeg                  \b\b\b\b 32%\b\b\b\b\b  OK \n",
            "Extracting  CovidDataset/Train/Normal/IM-0210-0001.jpeg                  \b\b\b\b 32%\b\b\b\b\b  OK \n",
            "Extracting  CovidDataset/Train/Normal/IM-0222-0001.jpeg                  \b\b\b\b 32%\b\b\b\b\b  OK \n",
            "Extracting  CovidDataset/Train/Normal/IM-0223-0001.jpeg                  \b\b\b\b 32%\b\b\b\b\b  OK \n",
            "Extracting  CovidDataset/Train/Normal/IM-0224-0001.jpeg                  \b\b\b\b 33%\b\b\b\b\b  OK \n",
            "Extracting  CovidDataset/Train/Normal/IM-0225-0001.jpeg                  \b\b\b\b 33%\b\b\b\b\b  OK \n",
            "Extracting  CovidDataset/Train/Normal/IM-0226-0001.jpeg                  \b\b\b\b 34%\b\b\b\b\b  OK \n",
            "Extracting  CovidDataset/Train/Normal/IM-0227-0001.jpeg                  \b\b\b\b 34%\b\b\b\b\b  OK \n",
            "Extracting  CovidDataset/Train/Normal/IM-0228-0001.jpeg                  \b\b\b\b 34%\b\b\b\b\b  OK \n",
            "Extracting  CovidDataset/Train/Normal/IM-0229-0001.jpeg                  \b\b\b\b 35%\b\b\b\b\b  OK \n",
            "Extracting  CovidDataset/Train/Normal/IM-0230-0001.jpeg                  \b\b\b\b 35%\b\b\b\b\b  OK \n",
            "Extracting  CovidDataset/Train/Normal/IM-0231-0001.jpeg                  \b\b\b\b 35%\b\b\b\b\b  OK \n",
            "Extracting  CovidDataset/Train/Normal/IM-0234-0001.jpeg                  \b\b\b\b 35%\b\b\b\b\b  OK \n",
            "Extracting  CovidDataset/Train/Normal/IM-0235-0001.jpeg                  \b\b\b\b 36%\b\b\b\b\b  OK \n",
            "Extracting  CovidDataset/Train/Normal/IM-0236-0001.jpeg                  \b\b\b\b 36%\b\b\b\b\b  OK \n",
            "Extracting  CovidDataset/Train/Normal/IM-0237-0001.jpeg                  \b\b\b\b 36%\b\b\b\b\b  OK \n",
            "Extracting  CovidDataset/Train/Normal/IM-0238-0001.jpeg                  \b\b\b\b 37%\b\b\b\b\b  OK \n",
            "Extracting  CovidDataset/Train/Normal/IM-0239-0001.jpeg                  \b\b\b\b 37%\b\b\b\b\b  OK \n",
            "Extracting  CovidDataset/Train/Normal/IM-0240-0001.jpeg                  \b\b\b\b 37%\b\b\b\b\b  OK \n",
            "Extracting  CovidDataset/Train/Normal/IM-0241-0001.jpeg                  \b\b\b\b 38%\b\b\b\b\b  OK \n",
            "Extracting  CovidDataset/Train/Normal/IM-0242-0001.jpeg                  \b\b\b\b 38%\b\b\b\b\b  OK \n",
            "Extracting  CovidDataset/Train/Normal/IM-0243-0001.jpeg                  \b\b\b\b 39%\b\b\b\b\b  OK \n",
            "Extracting  CovidDataset/Train/Normal/IM-0244-0001.jpeg                  \b\b\b\b 39%\b\b\b\b\b  OK \n",
            "Extracting  CovidDataset/Train/Normal/IM-0245-0001.jpeg                  \b\b\b\b 39%\b\b\b\b\b  OK \n",
            "Extracting  CovidDataset/Train/Normal/IM-0248-0001.jpeg                  \b\b\b\b 39%\b\b\b\b\b  OK \n",
            "Extracting  CovidDataset/Train/Normal/IM-0249-0001.jpeg                  \b\b\b\b 40%\b\b\b\b\b  OK \n",
            "Extracting  CovidDataset/Train/Normal/IM-0250-0001.jpeg                  \b\b\b\b 40%\b\b\b\b\b  OK \n",
            "Extracting  CovidDataset/Train/Normal/IM-0251-0001.jpeg                  \b\b\b\b 41%\b\b\b\b\b  OK \n",
            "Extracting  CovidDataset/Train/Normal/IM-0253-0001.jpeg                  \b\b\b\b 41%\b\b\b\b\b  OK \n",
            "Extracting  CovidDataset/Train/Normal/IM-0255-0001.jpeg                  \b\b\b\b 41%\b\b\b\b\b  OK \n",
            "Extracting  CovidDataset/Train/Normal/IM-0256-0001.jpeg                  \b\b\b\b 41%\b\b\b\b\b  OK \n",
            "Extracting  CovidDataset/Train/Normal/IM-0257-0001.jpeg                  \b\b\b\b 42%\b\b\b\b\b  OK \n",
            "Extracting  CovidDataset/Train/Normal/IM-0261-0001.jpeg                  \b\b\b\b 42%\b\b\b\b\b  OK \n",
            "Extracting  CovidDataset/Train/Normal/IM-0262-0001.jpeg                  \b\b\b\b 42%\b\b\b\b\b  OK \n",
            "Extracting  CovidDataset/Train/Normal/IM-0264-0001.jpeg                  \b\b\b\b 43%\b\b\b\b\b  OK \n",
            "Extracting  CovidDataset/Train/Normal/IM-0265-0001.jpeg                  \b\b\b\b 43%\b\b\b\b\b  OK \n",
            "Extracting  CovidDataset/Train/Normal/IM-0266-0001.jpeg                  \b\b\b\b 43%\b\b\b\b\b  OK \n",
            "Extracting  CovidDataset/Train/Normal/IM-0268-0001.jpeg                  \b\b\b\b 44%\b\b\b\b\b  OK \n",
            "Extracting  CovidDataset/Train/Normal/IM-0269-0001.jpeg                  \b\b\b\b 44%\b\b\b\b\b  OK \n",
            "Extracting  CovidDataset/Train/Normal/IM-0270-0001.jpeg                  \b\b\b\b 44%\b\b\b\b\b  OK \n",
            "Extracting  CovidDataset/Train/Normal/IM-0272-0001.jpeg                  \b\b\b\b 45%\b\b\b\b\b  OK \n",
            "Extracting  CovidDataset/Train/Normal/IM-0273-0001.jpeg                  \b\b\b\b 45%\b\b\b\b\b  OK \n",
            "Extracting  CovidDataset/Train/Normal/IM-0274-0001.jpeg                  \b\b\b\b 45%\b\b\b\b\b  OK \n",
            "Extracting  CovidDataset/Train/Normal/IM-0275-0001.jpeg                  \b\b\b\b 46%\b\b\b\b\b  OK \n",
            "Extracting  CovidDataset/Train/Normal/IM-0276-0001.jpeg                  \b\b\b\b 46%\b\b\b\b\b  OK \n",
            "Extracting  CovidDataset/Train/Normal/IM-0277-0001.jpeg                  \b\b\b\b 46%\b\b\b\b\b  OK \n",
            "Extracting  CovidDataset/Train/Normal/IM-0278-0001.jpeg                  \b\b\b\b 47%\b\b\b\b\b  OK \n",
            "Extracting  CovidDataset/Train/Normal/IM-0279-0001.jpeg                  \b\b\b\b 47%\b\b\b\b\b  OK \n",
            "Creating    CovidDataset/Val                                          OK\n",
            "Creating    CovidDataset/Val/Covid                                    OK\n",
            "Extracting  CovidDataset/Val/Covid/a361d7b7.jpg                          \b\b\b\b 47%\b\b\b\b\b  OK \n",
            "Extracting  CovidDataset/Val/Covid/ac4f6e4e.jpg                          \b\b\b\b 48%\b\b\b\b\b  OK \n",
            "Extracting  CovidDataset/Val/Covid/all14238-fig-0001-m-b.jpg             \b\b\b\b 48%\b\b\b\b\b  OK \n",
            "Extracting  CovidDataset/Val/Covid/all14238-fig-0001-m-c.jpg             \b\b\b\b 48%\b\b\b\b\b  OK \n",
            "Extracting  CovidDataset/Val/Covid/AR-1.jpg                              \b\b\b\b 48%\b\b\b\b\b  OK \n",
            "Extracting  CovidDataset/Val/Covid/AR-2.jpg                              \b\b\b\b 48%\b\b\b\b\b  OK \n",
            "Extracting  CovidDataset/Val/Covid/article_river_e4d185c06e3511eaa2321d8ab357a1de-c1mn.png     \b\b\b\b 48%\b\b\b\b\b  OK \n",
            "Extracting  CovidDataset/Val/Covid/auntminnie-a-2020_01_28_23_51_6665_2020_01_28_Vietnam_coronavirus.jpeg     \b\b\b\b 48%\b\b\b\b\b  OK \n",
            "Extracting  CovidDataset/Val/Covid/auntminnie-b-2020_01_28_23_51_6665_2020_01_28_Vietnam_coronavirus.jpeg     \b\b\b\b 49%\b\b\b\b\b  OK \n",
            "Extracting  CovidDataset/Val/Covid/auntminnie-c-2020_01_28_23_51_6665_2020_01_28_Vietnam_coronavirus.jpeg     \b\b\b\b 49%\b\b\b\b\b  OK \n",
            "Extracting  CovidDataset/Val/Covid/auntminnie-d-2020_01_28_23_51_6665_2020_01_28_Vietnam_coronavirus.jpeg     \b\b\b\b 49%\b\b\b\b\b  OK \n",
            "Extracting  CovidDataset/Val/Covid/b0f1684d1ee90dc09deef015e29dae_jumbo.jpeg     \b\b\b\b 49%\b\b\b\b\b  OK \n",
            "Extracting  CovidDataset/Val/Covid/b9673e89.jpg                          \b\b\b\b 49%\b\b\b\b\b  OK \n",
            "Extracting  CovidDataset/Val/Covid/bb0e626a.jpg                          \b\b\b\b 49%\b\b\b\b 50%\b\b\b\b\b  OK \n",
            "Extracting  CovidDataset/Val/Covid/bd10d5e2.jpg                          \b\b\b\b 50%\b\b\b\b\b  OK \n",
            "Extracting  CovidDataset/Val/Covid/BMJ-37-163-g1.jpg                     \b\b\b\b 50%\b\b\b\b\b  OK \n",
            "Extracting  CovidDataset/Val/Covid/c0f74558.jpg                          \b\b\b\b 51%\b\b\b\b\b  OK \n",
            "Extracting  CovidDataset/Val/Covid/c3829ecb.jpg                          \b\b\b\b 51%\b\b\b\b\b  OK \n",
            "Extracting  CovidDataset/Val/Covid/c601f50d.jpg                          \b\b\b\b 51%\b\b\b\b\b  OK \n",
            "Extracting  CovidDataset/Val/Covid/CD50BA96-6982-4C80-AE7B-5F67ACDBFA56.jpeg     \b\b\b\b 52%\b\b\b\b\b  OK \n",
            "Extracting  CovidDataset/Val/Covid/ciaa199.pdf-001-a.png                 \b\b\b\b 52%\b\b\b\b\b  OK \n",
            "Extracting  CovidDataset/Val/Covid/ciaa199.pdf-001-b.png                 \b\b\b\b 52%\b\b\b\b\b  OK \n",
            "Extracting  CovidDataset/Val/Covid/covid-19-caso-70-1-PA.jpg             \b\b\b\b 52%\b\b\b\b\b  OK \n",
            "Extracting  CovidDataset/Val/Covid/covid-19-caso-82-1-8.png              \b\b\b\b 53%\b\b\b\b\b  OK \n",
            "Extracting  CovidDataset/Val/Covid/covid-19-caso-91-1-12.png             \b\b\b\b 53%\b\b\b\b\b  OK \n",
            "Extracting  CovidDataset/Val/Covid/covid-19-caso-94-1-14.png             \b\b\b\b 54%\b\b\b\b\b  OK \n",
            "Extracting  CovidDataset/Val/Covid/covid-19-caso-95-1-15.png             \b\b\b\b 54%\b\b\b\b\b  OK \n",
            "Extracting  CovidDataset/Val/Covid/covid-19-caso-95-3-14.png             \b\b\b\b 54%\b\b\b\b\b  OK \n",
            "Extracting  CovidDataset/Val/Covid/covid-19-infection-exclusive-gastrointestinal-symptoms-pa.png     \b\b\b\b 55%\b\b\b\b\b  OK \n",
            "Extracting  CovidDataset/Val/Covid/covid-19-pneumonia-14-PA.png          \b\b\b\b 58%\b\b\b\b\b  OK \n",
            "Extracting  CovidDataset/Val/Covid/covid-19-pneumonia-15-PA.jpg          \b\b\b\b 59%\b\b\b\b\b  OK \n",
            "Extracting  CovidDataset/Val/Covid/covid-19-pneumonia-20-pa-on-admission.jpg     \b\b\b\b 59%\b\b\b\b\b  OK \n",
            "Extracting  CovidDataset/Val/Covid/covid-19-pneumonia-20.jpg             \b\b\b\b 59%\b\b\b\b\b  OK \n",
            "Extracting  CovidDataset/Val/Covid/covid-19-pneumonia-22-day1-pa.png     \b\b\b\b 60%\b\b\b\b\b  OK \n",
            "Extracting  CovidDataset/Val/Covid/covid-19-pneumonia-22-day2-pa.png     \b\b\b\b 60%\b\b\b\b\b  OK \n",
            "Extracting  CovidDataset/Val/Covid/covid-19-pneumonia-28.png             \b\b\b\b 61%\b\b\b\b\b  OK \n",
            "Extracting  CovidDataset/Val/Covid/covid-19-pneumonia-30-PA.jpg          \b\b\b\b 61%\b\b\b\b\b  OK \n",
            "Extracting  CovidDataset/Val/Covid/covid-19-pneumonia-35-1.jpg           \b\b\b\b 62%\b\b\b\b\b  OK \n",
            "Extracting  CovidDataset/Val/Covid/covid-19-pneumonia-35-2.jpg           \b\b\b\b 62%\b\b\b\b\b  OK \n",
            "Extracting  CovidDataset/Val/Covid/covid-19-pneumonia-38-pa.jpg          \b\b\b\b 63%\b\b\b\b\b  OK \n",
            "Extracting  CovidDataset/Val/Covid/covid-19-pneumonia-44-day-0.jpeg      \b\b\b\b 63%\b\b\b\b\b  OK \n",
            "Extracting  CovidDataset/Val/Covid/covid-19-pneumonia-53.jpg             \b\b\b\b 63%\b\b\b\b\b  OK \n",
            "Extracting  CovidDataset/Val/Covid/covid-19-pneumonia-7-PA.jpg           \b\b\b\b 63%\b\b\b\b\b  OK \n",
            "Extracting  CovidDataset/Val/Covid/covid-19-pneumonia-8.jpg              \b\b\b\b 63%\b\b\b\b\b  OK \n",
            "Extracting  CovidDataset/Val/Covid/covid-19-pneumonia-93.png             \b\b\b\b 63%\b\b\b\b\b  OK \n",
            "Extracting  CovidDataset/Val/Covid/covid-19-pneumonia-evolution-over-a-week-1-day0-PA.jpg     \b\b\b\b 63%\b\b\b\b\b  OK \n",
            "Extracting  CovidDataset/Val/Covid/covid-19-pneumonia-mild.JPG           \b\b\b\b 64%\b\b\b\b\b  OK \n",
            "Extracting  CovidDataset/Val/Covid/covid-19-pneumonia-rapidly-progressive-12-hours.jpg     \b\b\b\b 64%\b\b\b\b\b  OK \n",
            "Extracting  CovidDataset/Val/Covid/covid-19-pneumonia-rapidly-progressive-3-days.jpg     \b\b\b\b 64%\b\b\b\b\b  OK \n",
            "Extracting  CovidDataset/Val/Covid/covid-19-pneumonia-rapidly-progressive-admission.jpg     \b\b\b\b 64%\b\b\b\b\b  OK \n",
            "Extracting  CovidDataset/Val/Covid/covid-19-rapidly-progressive-acute-respiratory-distress-syndrome-ards-admission.jpg     \b\b\b\b 64%\b\b\b\b\b  OK \n",
            "Extracting  CovidDataset/Val/Covid/covid-19-rapidly-progressive-acute-respiratory-distress-syndrome-ards-day-1.jpg     \b\b\b\b 64%\b\b\b\b\b  OK \n",
            "Extracting  CovidDataset/Val/Covid/covid-19-rapidly-progressive-acute-respiratory-distress-syndrome-ards-day-2.jpg     \b\b\b\b 64%\b\b\b\b\b  OK \n",
            "Extracting  CovidDataset/Val/Covid/covid-19-rapidly-progressive-acute-respiratory-distress-syndrome-ards-day-3.jpg     \b\b\b\b 64%\b\b\b\b\b  OK \n",
            "Extracting  CovidDataset/Val/Covid/d009d61f.jpg                          \b\b\b\b 64%\b\b\b\b\b  OK \n",
            "Extracting  CovidDataset/Val/Covid/d9d6ca9a.jpg                          \b\b\b\b 65%\b\b\b\b\b  OK \n",
            "Extracting  CovidDataset/Val/Covid/e1446fe8.jpg                          \b\b\b\b 65%\b\b\b\b\b  OK \n",
            "Extracting  CovidDataset/Val/Covid/E63574A7-4188-4C8D-8D17-9D67A18A1AFA.jpeg     \b\b\b\b 65%\b\b\b\b\b  OK \n",
            "Extracting  CovidDataset/Val/Covid/ec083e35.jpg                          \b\b\b\b 65%\b\b\b\b\b  OK \n",
            "Extracting  CovidDataset/Val/Covid/extubation-1.jpg                      \b\b\b\b 65%\b\b\b\b\b  OK \n",
            "Extracting  CovidDataset/Val/Covid/extubation-13.jpg                     \b\b\b\b 65%\b\b\b\b\b  OK \n",
            "Extracting  CovidDataset/Val/Covid/extubation-4.jpg                      \b\b\b\b 65%\b\b\b\b\b  OK \n",
            "Extracting  CovidDataset/Val/Covid/extubation-8.jpg                      \b\b\b\b 65%\b\b\b\b\b  OK \n",
            "Extracting  CovidDataset/Val/Covid/F4341CE7-73C9-45C6-99C8-8567A5484B63.jpeg     \b\b\b\b 66%\b\b\b\b\b  OK \n",
            "Extracting  CovidDataset/Val/Covid/f64132c8.jpg                          \b\b\b\b 66%\b\b\b\b\b  OK \n",
            "Extracting  CovidDataset/Val/Covid/f6575117.jpg                          \b\b\b\b 66%\b\b\b\b\b  OK \n",
            "Extracting  CovidDataset/Val/Covid/f6d980a0.jpg                          \b\b\b\b 66%\b\b\b\b\b  OK \n",
            "Extracting  CovidDataset/Val/Covid/f8335316.jpg                          \b\b\b\b 67%\b\b\b\b\b  OK \n",
            "Extracting  CovidDataset/Val/Covid/FE9F9A5D-2830-46F9-851B-1FF4534959BE.jpeg     \b\b\b\b 67%\b\b\b\b\b  OK \n",
            "Extracting  CovidDataset/Val/Covid/fff49165-b22d-4bb4-b9d1-d5d62c52436c.annot.original.png     \b\b\b\b 67%\b\b\b\b\b  OK \n",
            "Extracting  CovidDataset/Val/Covid/figure1-5e71be566aa8714a04de3386-98-left.jpeg     \b\b\b\b 67%\b\b\b\b 68%\b\b\b\b\b  OK \n",
            "Extracting  CovidDataset/Val/Covid/figure1-5e75d0940b71e1b702629659-98-right.jpeg     \b\b\b\b 68%\b\b\b\b\b  OK \n",
            "Extracting  CovidDataset/Val/Covid/gr1_lrg-a.jpg                         \b\b\b\b 68%\b\b\b\b\b  OK \n",
            "Extracting  CovidDataset/Val/Covid/gr1_lrg-b.jpg                         \b\b\b\b 68%\b\b\b\b\b  OK \n",
            "Extracting  CovidDataset/Val/Covid/kjr-21-e25-g001-l-a.jpg               \b\b\b\b 68%\b\b\b\b\b  OK \n",
            "Extracting  CovidDataset/Val/Covid/lancet-case2a.jpg                     \b\b\b\b 68%\b\b\b\b\b  OK \n",
            "Extracting  CovidDataset/Val/Covid/lancet-case2b.jpg                     \b\b\b\b 68%\b\b\b\b\b  OK \n",
            "Extracting  CovidDataset/Val/Covid/nCoV-radiol.2020200269.fig1-day7.jpeg     \b\b\b\b 68%\b\b\b\b\b  OK \n",
            "Extracting  CovidDataset/Val/Covid/nejmc2001573_f1a.jpeg                 \b\b\b\b 68%\b\b\b\b\b  OK \n",
            "Extracting  CovidDataset/Val/Covid/nejmc2001573_f1b.jpeg                 \b\b\b\b 69%\b\b\b\b\b  OK \n",
            "Extracting  CovidDataset/Val/Covid/nejmoa2001191_f1-PA.jpeg              \b\b\b\b 69%\b\b\b\b\b  OK \n",
            "Extracting  CovidDataset/Val/Covid/nejmoa2001191_f3-PA.jpeg              \b\b\b\b 69%\b\b\b\b\b  OK \n",
            "Extracting  CovidDataset/Val/Covid/nejmoa2001191_f4.jpeg                 \b\b\b\b 69%\b\b\b\b\b  OK \n",
            "Extracting  CovidDataset/Val/Covid/nejmoa2001191_f5-PA.jpeg              \b\b\b\b 69%\b\b\b\b\b  OK \n",
            "Extracting  CovidDataset/Val/Covid/paving.jpg                            \b\b\b\b 69%\b\b\b\b\b  OK \n",
            "Extracting  CovidDataset/Val/Covid/radiol.2020200274.fig3d.png           \b\b\b\b 69%\b\b\b\b\b  OK \n",
            "Extracting  CovidDataset/Val/Covid/radiol.2020200490.fig3.jpeg           \b\b\b\b 69%\b\b\b\b\b  OK \n",
            "Extracting  CovidDataset/Val/Covid/ryct.2020003.fig2-a.png               \b\b\b\b 69%\b\b\b\b\b  OK \n",
            "Extracting  CovidDataset/Val/Covid/ryct.2020003.fig2-b.png               \b\b\b\b 69%\b\b\b\b\b  OK \n",
            "Extracting  CovidDataset/Val/Covid/ryct.2020003.fig2-c.png               \b\b\b\b 69%\b\b\b\b\b  OK \n",
            "Extracting  CovidDataset/Val/Covid/ryct.2020200028.fig1a.jpeg            \b\b\b\b 71%\b\b\b\b\b  OK \n",
            "Extracting  CovidDataset/Val/Covid/ryct.2020200034.fig2.jpeg             \b\b\b\b 71%\b\b\b\b\b  OK \n",
            "Extracting  CovidDataset/Val/Covid/ryct.2020200034.fig5-day0.jpeg        \b\b\b\b 71%\b\b\b\b\b  OK \n",
            "Extracting  CovidDataset/Val/Covid/ryct.2020200034.fig5-day4.jpeg        \b\b\b\b 71%\b\b\b\b\b  OK \n",
            "Extracting  CovidDataset/Val/Covid/ryct.2020200034.fig5-day7.jpeg        \b\b\b\b 71%\b\b\b\b\b  OK \n",
            "Extracting  CovidDataset/Val/Covid/thnov10p5641g006-c.png                \b\b\b\b 71%\b\b\b\b\b  OK \n",
            "Creating    CovidDataset/Val/Normal                                   OK\n",
            "Extracting  CovidDataset/Val/Normal/IM-0280-0001.jpeg                    \b\b\b\b 71%\b\b\b\b\b  OK \n",
            "Extracting  CovidDataset/Val/Normal/IM-0282-0001.jpeg                    \b\b\b\b 72%\b\b\b\b\b  OK \n",
            "Extracting  CovidDataset/Val/Normal/IM-0283-0001.jpeg                    \b\b\b\b 72%\b\b\b\b\b  OK \n",
            "Extracting  CovidDataset/Val/Normal/IM-0285-0001.jpeg                    \b\b\b\b 72%\b\b\b\b\b  OK \n",
            "Extracting  CovidDataset/Val/Normal/IM-0286-0001.jpeg                    \b\b\b\b 73%\b\b\b\b\b  OK \n",
            "Extracting  CovidDataset/Val/Normal/IM-0288-0001.jpeg                    \b\b\b\b 73%\b\b\b\b\b  OK \n",
            "Extracting  CovidDataset/Val/Normal/IM-0289-0001.jpeg                    \b\b\b\b 74%\b\b\b\b\b  OK \n",
            "Extracting  CovidDataset/Val/Normal/IM-0290-0001.jpeg                    \b\b\b\b 74%\b\b\b\b\b  OK \n",
            "Extracting  CovidDataset/Val/Normal/IM-0291-0001.jpeg                    \b\b\b\b 74%\b\b\b\b\b  OK \n",
            "Extracting  CovidDataset/Val/Normal/IM-0292-0001.jpeg                    \b\b\b\b 75%\b\b\b\b\b  OK \n",
            "Extracting  CovidDataset/Val/Normal/IM-0293-0001.jpeg                    \b\b\b\b 75%\b\b\b\b\b  OK \n",
            "Extracting  CovidDataset/Val/Normal/IM-0294-0001.jpeg                    \b\b\b\b 75%\b\b\b\b\b  OK \n",
            "Extracting  CovidDataset/Val/Normal/IM-0295-0001.jpeg                    \b\b\b\b 76%\b\b\b\b\b  OK \n",
            "Extracting  CovidDataset/Val/Normal/IM-0297-0001.jpeg                    \b\b\b\b 76%\b\b\b\b\b  OK \n",
            "Extracting  CovidDataset/Val/Normal/IM-0298-0001.jpeg                    \b\b\b\b 76%\b\b\b\b\b  OK \n",
            "Extracting  CovidDataset/Val/Normal/IM-0299-0001.jpeg                    \b\b\b\b 77%\b\b\b\b\b  OK \n",
            "Extracting  CovidDataset/Val/Normal/IM-0300-0001.jpeg                    \b\b\b\b 77%\b\b\b\b\b  OK \n",
            "Extracting  CovidDataset/Val/Normal/IM-0301-0001.jpeg                    \b\b\b\b 77%\b\b\b\b\b  OK \n",
            "Extracting  CovidDataset/Val/Normal/IM-0302-0001.jpeg                    \b\b\b\b 78%\b\b\b\b\b  OK \n",
            "Extracting  CovidDataset/Val/Normal/IM-0303-0001.jpeg                    \b\b\b\b 78%\b\b\b\b\b  OK \n",
            "Extracting  CovidDataset/Val/Normal/IM-0304-0001.jpeg                    \b\b\b\b 78%\b\b\b\b\b  OK \n",
            "Extracting  CovidDataset/Val/Normal/IM-0305-0001.jpeg                    \b\b\b\b 79%\b\b\b\b\b  OK \n",
            "Extracting  CovidDataset/Val/Normal/IM-0306-0001.jpeg                    \b\b\b\b 79%\b\b\b\b\b  OK \n",
            "Extracting  CovidDataset/Val/Normal/IM-0307-0001.jpeg                    \b\b\b\b 79%\b\b\b\b\b  OK \n",
            "Extracting  CovidDataset/Val/Normal/IM-0308-0001.jpeg                    \b\b\b\b 80%\b\b\b\b\b  OK \n",
            "Extracting  CovidDataset/Val/Normal/IM-0309-0001.jpeg                    \b\b\b\b 80%\b\b\b\b\b  OK \n",
            "Extracting  CovidDataset/Val/Normal/IM-0311-0001.jpeg                    \b\b\b\b 80%\b\b\b\b\b  OK \n",
            "Extracting  CovidDataset/Val/Normal/IM-0312-0001.jpeg                    \b\b\b\b 81%\b\b\b\b\b  OK \n",
            "Extracting  CovidDataset/Val/Normal/IM-0313-0001.jpeg                    \b\b\b\b 81%\b\b\b\b\b  OK \n",
            "Extracting  CovidDataset/Val/Normal/IM-0314-0001.jpeg                    \b\b\b\b 81%\b\b\b\b\b  OK \n",
            "Extracting  CovidDataset/Val/Normal/IM-0315-0001.jpeg                    \b\b\b\b 81%\b\b\b\b\b  OK \n",
            "Extracting  CovidDataset/Val/Normal/IM-0316-0001.jpeg                    \b\b\b\b 82%\b\b\b\b\b  OK \n",
            "Extracting  CovidDataset/Val/Normal/IM-0317-0001.jpeg                    \b\b\b\b 82%\b\b\b\b\b  OK \n",
            "Extracting  CovidDataset/Val/Normal/IM-0318-0001.jpeg                    \b\b\b\b 82%\b\b\b\b\b  OK \n",
            "Extracting  CovidDataset/Val/Normal/IM-0319-0001.jpeg                    \b\b\b\b 83%\b\b\b\b\b  OK \n",
            "Extracting  CovidDataset/Val/Normal/IM-0320-0001.jpeg                    \b\b\b\b 83%\b\b\b\b\b  OK \n",
            "Extracting  CovidDataset/Val/Normal/IM-0323-0001.jpeg                    \b\b\b\b 83%\b\b\b\b\b  OK \n",
            "Extracting  CovidDataset/Val/Normal/IM-0324-0001.jpeg                    \b\b\b\b 84%\b\b\b\b\b  OK \n",
            "Extracting  CovidDataset/Val/Normal/IM-0325-0001.jpeg                    \b\b\b\b 84%\b\b\b\b\b  OK \n",
            "Extracting  CovidDataset/Val/Normal/IM-0326-0001.jpeg                    \b\b\b\b 84%\b\b\b\b\b  OK \n",
            "Extracting  CovidDataset/Val/Normal/IM-0327-0001.jpeg                    \b\b\b\b 85%\b\b\b\b\b  OK \n",
            "Extracting  CovidDataset/Val/Normal/IM-0329-0001.jpeg                    \b\b\b\b 85%\b\b\b\b\b  OK \n",
            "Extracting  CovidDataset/Val/Normal/IM-0330-0001.jpeg                    \b\b\b\b 85%\b\b\b\b\b  OK \n",
            "Extracting  CovidDataset/Val/Normal/IM-0331-0001.jpeg                    \b\b\b\b 85%\b\b\b\b\b  OK \n",
            "Extracting  CovidDataset/Val/Normal/IM-0332-0001.jpeg                    \b\b\b\b 86%\b\b\b\b\b  OK \n",
            "Extracting  CovidDataset/Val/Normal/IM-0333-0001.jpeg                    \b\b\b\b 86%\b\b\b\b\b  OK \n",
            "Extracting  CovidDataset/Val/Normal/IM-0335-0001.jpeg                    \b\b\b\b 87%\b\b\b\b\b  OK \n",
            "Extracting  CovidDataset/Val/Normal/IM-0337-0001.jpeg                    \b\b\b\b 87%\b\b\b\b\b  OK \n",
            "Extracting  CovidDataset/Val/Normal/IM-0338-0001.jpeg                    \b\b\b\b 87%\b\b\b\b\b  OK \n",
            "Extracting  CovidDataset/Val/Normal/IM-0339-0001.jpeg                    \b\b\b\b 88%\b\b\b\b\b  OK \n",
            "Extracting  CovidDataset/Val/Normal/IM-0340-0001.jpeg                    \b\b\b\b 88%\b\b\b\b\b  OK \n",
            "Extracting  CovidDataset/Val/Normal/IM-0341-0001.jpeg                    \b\b\b\b 88%\b\b\b\b\b  OK \n",
            "Extracting  CovidDataset/Val/Normal/IM-0343-0001.jpeg                    \b\b\b\b 89%\b\b\b\b\b  OK \n",
            "Extracting  CovidDataset/Val/Normal/IM-0345-0001.jpeg                    \b\b\b\b 89%\b\b\b\b\b  OK \n",
            "Extracting  CovidDataset/Val/Normal/IM-0346-0001.jpeg                    \b\b\b\b 89%\b\b\b\b\b  OK \n",
            "Extracting  CovidDataset/Val/Normal/IM-0347-0001.jpeg                    \b\b\b\b 90%\b\b\b\b\b  OK \n",
            "Extracting  CovidDataset/Val/Normal/IM-0348-0001.jpeg                    \b\b\b\b 90%\b\b\b\b\b  OK \n",
            "Extracting  CovidDataset/Val/Normal/IM-0349-0001.jpeg                    \b\b\b\b 90%\b\b\b\b\b  OK \n",
            "Extracting  CovidDataset/Val/Normal/IM-0350-0001.jpeg                    \b\b\b\b 90%\b\b\b\b\b  OK \n",
            "Extracting  CovidDataset/Val/Normal/IM-0351-0001.jpeg                    \b\b\b\b 91%\b\b\b\b\b  OK \n",
            "Extracting  CovidDataset/Val/Normal/IM-0353-0001.jpeg                    \b\b\b\b 91%\b\b\b\b\b  OK \n",
            "Extracting  CovidDataset/Val/Normal/IM-0354-0001.jpeg                    \b\b\b\b 91%\b\b\b\b\b  OK \n",
            "Extracting  CovidDataset/Val/Normal/IM-0355-0001.jpeg                    \b\b\b\b 92%\b\b\b\b\b  OK \n",
            "Extracting  CovidDataset/Val/Normal/IM-0357-0001.jpeg                    \b\b\b\b 92%\b\b\b\b\b  OK \n",
            "Extracting  CovidDataset/Val/Normal/IM-0358-0001.jpeg                    \b\b\b\b 93%\b\b\b\b\b  OK \n",
            "Extracting  CovidDataset/Val/Normal/IM-0369-0001.jpeg                    \b\b\b\b 93%\b\b\b\b\b  OK \n",
            "Extracting  CovidDataset/Val/Normal/IM-0383-0001.jpeg                    \b\b\b\b 93%\b\b\b\b\b  OK \n",
            "Extracting  CovidDataset/Val/Normal/IM-0394-0001.jpeg                    \b\b\b\b 93%\b\b\b\b\b  OK \n",
            "Extracting  CovidDataset/Val/Normal/NORMAL2-IM-1343-0001.jpeg            \b\b\b\b 94%\b\b\b\b\b  OK \n",
            "Extracting  CovidDataset/Val/Normal/NORMAL2-IM-1344-0001.jpeg            \b\b\b\b 94%\b\b\b\b\b  OK \n",
            "Extracting  CovidDataset/Val/Normal/NORMAL2-IM-1345-0001-0001.jpeg       \b\b\b\b 94%\b\b\b\b\b  OK \n",
            "Extracting  CovidDataset/Val/Normal/NORMAL2-IM-1345-0001-0002.jpeg       \b\b\b\b 95%\b\b\b\b\b  OK \n",
            "Extracting  CovidDataset/Val/Normal/NORMAL2-IM-1345-0001.jpeg            \b\b\b\b 95%\b\b\b\b\b  OK \n",
            "Extracting  CovidDataset/Val/Normal/NORMAL2-IM-1346-0001.jpeg            \b\b\b\b 95%\b\b\b\b\b  OK \n",
            "Extracting  CovidDataset/Val/Normal/NORMAL2-IM-1347-0001.jpeg            \b\b\b\b 96%\b\b\b\b\b  OK \n",
            "Extracting  CovidDataset/Val/Normal/NORMAL2-IM-1348-0001.jpeg            \b\b\b\b 96%\b\b\b\b\b  OK \n",
            "Extracting  CovidDataset/Val/Normal/NORMAL2-IM-1349-0001.jpeg            \b\b\b\b 96%\b\b\b\b\b  OK \n",
            "Extracting  CovidDataset/Val/Normal/NORMAL2-IM-1350-0001.jpeg            \b\b\b\b 97%\b\b\b\b\b  OK \n",
            "Extracting  CovidDataset/Val/Normal/NORMAL2-IM-1351-0001.jpeg            \b\b\b\b 97%\b\b\b\b\b  OK \n",
            "Extracting  CovidDataset/Val/Normal/NORMAL2-IM-1356-0001.jpeg            \b\b\b\b 97%\b\b\b\b\b  OK \n",
            "Extracting  CovidDataset/Val/Normal/NORMAL2-IM-1357-0001.jpeg            \b\b\b\b 97%\b\b\b\b\b  OK \n",
            "Extracting  CovidDataset/Val/Normal/NORMAL2-IM-1360-0001.jpeg            \b\b\b\b 98%\b\b\b\b\b  OK \n",
            "Extracting  CovidDataset/Val/Normal/NORMAL2-IM-1362-0001.jpeg            \b\b\b\b 98%\b\b\b\b\b  OK \n",
            "Extracting  CovidDataset/Val/Normal/NORMAL2-IM-1365-0001.jpeg            \b\b\b\b 98%\b\b\b\b\b  OK \n",
            "Extracting  CovidDataset/Val/Normal/NORMAL2-IM-1371-0001.jpeg            \b\b\b\b 98%\b\b\b\b\b  OK \n",
            "Extracting  CovidDataset/Val/Normal/NORMAL2-IM-1376-0001.jpeg            \b\b\b\b 98%\b\b\b\b\b  OK \n",
            "Extracting  CovidDataset/Val/Normal/NORMAL2-IM-1379-0001.jpeg            \b\b\b\b 98%\b\b\b\b\b  OK \n",
            "Extracting  CovidDataset/Val/Normal/NORMAL2-IM-1385-0001.jpeg            \b\b\b\b 98%\b\b\b\b\b  OK \n",
            "Extracting  CovidDataset/Val/Normal/NORMAL2-IM-1396-0001.jpeg            \b\b\b\b 98%\b\b\b\b\b  OK \n",
            "Extracting  CovidDataset/Val/Normal/NORMAL2-IM-1400-0001.jpeg            \b\b\b\b 99%\b\b\b\b\b  OK \n",
            "Extracting  CovidDataset/Val/Normal/NORMAL2-IM-1401-0001.jpeg            \b\b\b\b 99%\b\b\b\b\b  OK \n",
            "Extracting  CovidDataset/Val/Normal/NORMAL2-IM-1406-0001.jpeg            \b\b\b\b 99%\b\b\b\b\b  OK \n",
            "Extracting  CovidDataset/Val/Normal/NORMAL2-IM-1412-0001.jpeg            \b\b\b\b 99%\b\b\b\b\b  OK \n",
            "Extracting  CovidDataset/Val/Normal/NORMAL2-IM-1419-0001.jpeg            \b\b\b\b 99%\b\b\b\b\b  OK \n",
            "Extracting  CovidDataset/Val/Normal/NORMAL2-IM-1422-0001.jpeg            \b\b\b\b 99%\b\b\b\b\b  OK \n",
            "Extracting  CovidDataset/Val/Normal/NORMAL2-IM-1423-0001.jpeg            \b\b\b\b 99%\b\b\b\b\b  OK \n",
            "All OK\n"
          ],
          "name": "stdout"
        }
      ]
    },
    {
      "cell_type": "code",
      "metadata": {
        "id": "qBAmxfdITNgj"
      },
      "source": [
        "TRAIN_PATH = \"CovidDataset/Train\"\n",
        "VAL_PATH = \"CovidDataset/Test\""
      ],
      "execution_count": null,
      "outputs": []
    },
    {
      "cell_type": "markdown",
      "metadata": {
        "id": "DaC2CKR650d4"
      },
      "source": [
        ""
      ]
    },
    {
      "cell_type": "code",
      "metadata": {
        "id": "SMuzxJlHTSsE"
      },
      "source": [
        "import numpy as np\n",
        "import matplotlib.pyplot as plt\n",
        "import keras\n",
        "from keras.layers import *\n",
        "from keras.models import * \n",
        "from keras.preprocessing import image\n"
      ],
      "execution_count": null,
      "outputs": []
    },
    {
      "cell_type": "code",
      "metadata": {
        "id": "WQFQTTHgTV_P"
      },
      "source": [
        "\n",
        "\n",
        "model = Sequential()\n",
        "model.add(Conv2D(32,kernel_size=(3,3),activation='relu',input_shape=(224,224,3)))\n",
        "model.add(Conv2D(64,(3,3),activation='relu'))\n",
        "model.add(MaxPooling2D(pool_size=(2,2)))\n",
        "model.add(Dropout(0.25))\n",
        "\n",
        "model.add(Conv2D(64,(3,3),activation='relu'))\n",
        "model.add(MaxPooling2D(pool_size=(2,2)))\n",
        "model.add(Dropout(0.25))\n",
        "\n",
        "model.add(Conv2D(128,(3,3),activation='relu'))\n",
        "model.add(MaxPooling2D(pool_size=(2,2)))\n",
        "model.add(Dropout(0.25))\n",
        "\n",
        "model.add(Flatten())\n",
        "model.add(Dense(64,activation='relu'))\n",
        "model.add(Dropout(0.5))\n",
        "model.add(Dense(1,activation='sigmoid'))\n",
        "\n",
        "model.compile(loss=keras.losses.binary_crossentropy,optimizer='adam',metrics=['accuracy'])"
      ],
      "execution_count": null,
      "outputs": []
    },
    {
      "cell_type": "code",
      "metadata": {
        "colab": {
          "base_uri": "https://localhost:8080/"
        },
        "id": "nGTct31BTY97",
        "outputId": "d574b4c6-04fe-4dea-bb4d-49330bdf7cf3"
      },
      "source": [
        "model.summary()"
      ],
      "execution_count": null,
      "outputs": [
        {
          "output_type": "stream",
          "text": [
            "Model: \"sequential\"\n",
            "_________________________________________________________________\n",
            "Layer (type)                 Output Shape              Param #   \n",
            "=================================================================\n",
            "conv2d (Conv2D)              (None, 222, 222, 32)      896       \n",
            "_________________________________________________________________\n",
            "conv2d_1 (Conv2D)            (None, 220, 220, 64)      18496     \n",
            "_________________________________________________________________\n",
            "max_pooling2d (MaxPooling2D) (None, 110, 110, 64)      0         \n",
            "_________________________________________________________________\n",
            "dropout (Dropout)            (None, 110, 110, 64)      0         \n",
            "_________________________________________________________________\n",
            "conv2d_2 (Conv2D)            (None, 108, 108, 64)      36928     \n",
            "_________________________________________________________________\n",
            "max_pooling2d_1 (MaxPooling2 (None, 54, 54, 64)        0         \n",
            "_________________________________________________________________\n",
            "dropout_1 (Dropout)          (None, 54, 54, 64)        0         \n",
            "_________________________________________________________________\n",
            "conv2d_3 (Conv2D)            (None, 52, 52, 128)       73856     \n",
            "_________________________________________________________________\n",
            "max_pooling2d_2 (MaxPooling2 (None, 26, 26, 128)       0         \n",
            "_________________________________________________________________\n",
            "dropout_2 (Dropout)          (None, 26, 26, 128)       0         \n",
            "_________________________________________________________________\n",
            "flatten (Flatten)            (None, 86528)             0         \n",
            "_________________________________________________________________\n",
            "dense (Dense)                (None, 64)                5537856   \n",
            "_________________________________________________________________\n",
            "dropout_3 (Dropout)          (None, 64)                0         \n",
            "_________________________________________________________________\n",
            "dense_1 (Dense)              (None, 1)                 65        \n",
            "=================================================================\n",
            "Total params: 5,668,097\n",
            "Trainable params: 5,668,097\n",
            "Non-trainable params: 0\n",
            "_________________________________________________________________\n"
          ],
          "name": "stdout"
        }
      ]
    },
    {
      "cell_type": "code",
      "metadata": {
        "id": "DB0VS_wwTdqx"
      },
      "source": [
        "# Train\n",
        "train_datagen = image.ImageDataGenerator(\n",
        "    rescale = 1./255,\n",
        "    shear_range = 0.2,\n",
        "    zoom_range = 0.2,\n",
        "    horizontal_flip = True,\n",
        ")\n",
        "\n",
        "test_dataset = image.ImageDataGenerator(rescale=1./255)"
      ],
      "execution_count": null,
      "outputs": []
    },
    {
      "cell_type": "code",
      "metadata": {
        "colab": {
          "base_uri": "https://localhost:8080/"
        },
        "id": "OgmEWjbTTgkA",
        "outputId": "41c7822e-0d9a-4a63-f5ea-26f54100aa87"
      },
      "source": [
        "train_generator = train_datagen.flow_from_directory(\n",
        "    'CovidDataset/Train',\n",
        "    target_size = (224,224),\n",
        "    batch_size = 32,\n",
        "    class_mode = 'binary')"
      ],
      "execution_count": null,
      "outputs": [
        {
          "output_type": "stream",
          "text": [
            "Found 192 images belonging to 2 classes.\n"
          ],
          "name": "stdout"
        }
      ]
    },
    {
      "cell_type": "code",
      "metadata": {
        "colab": {
          "base_uri": "https://localhost:8080/"
        },
        "id": "dBJ1EXutTkCb",
        "outputId": "bd6c8319-1ded-4857-bc06-fbd954527198"
      },
      "source": [
        "train_generator.class_indices"
      ],
      "execution_count": null,
      "outputs": [
        {
          "output_type": "execute_result",
          "data": {
            "text/plain": [
              "{'Covid': 0, 'Normal': 1}"
            ]
          },
          "metadata": {
            "tags": []
          },
          "execution_count": 15
        }
      ]
    },
    {
      "cell_type": "code",
      "metadata": {
        "colab": {
          "base_uri": "https://localhost:8080/"
        },
        "id": "agrsWc27TmyN",
        "outputId": "e30c0a65-202a-4e2e-8e1a-08da3c332cf6"
      },
      "source": [
        "validation_generator = test_dataset.flow_from_directory(\n",
        "    'CovidDataset/Val',\n",
        "    target_size = (224,224),\n",
        "    batch_size = 32,\n",
        "    class_mode = 'binary')"
      ],
      "execution_count": null,
      "outputs": [
        {
          "output_type": "stream",
          "text": [
            "Found 192 images belonging to 2 classes.\n"
          ],
          "name": "stdout"
        }
      ]
    },
    {
      "cell_type": "code",
      "metadata": {
        "colab": {
          "base_uri": "https://localhost:8080/"
        },
        "id": "2qXA_EdOTqmA",
        "outputId": "b0f335e9-64f8-4c96-ee0e-1a8bd29bcdee"
      },
      "source": [
        "hist = model.fit_generator(\n",
        "    train_generator,\n",
        "    steps_per_epoch=6,\n",
        "    epochs = 10,\n",
        "    validation_data = validation_generator,\n",
        "    validation_steps=2\n",
        ")"
      ],
      "execution_count": null,
      "outputs": [
        {
          "output_type": "stream",
          "text": [
            "WARNING:tensorflow:From <ipython-input-17-e660bfd9e6ac>:6: Model.fit_generator (from tensorflow.python.keras.engine.training) is deprecated and will be removed in a future version.\n",
            "Instructions for updating:\n",
            "Please use Model.fit, which supports generators.\n",
            "Epoch 1/10\n",
            "6/6 [==============================] - 51s 9s/step - loss: 1.1358 - accuracy: 0.5208 - val_loss: 0.6880 - val_accuracy: 0.5938\n",
            "Epoch 2/10\n",
            "6/6 [==============================] - 50s 8s/step - loss: 0.6613 - accuracy: 0.6406 - val_loss: 0.6511 - val_accuracy: 0.7031\n",
            "Epoch 3/10\n",
            "6/6 [==============================] - 50s 8s/step - loss: 0.5225 - accuracy: 0.7917 - val_loss: 0.4124 - val_accuracy: 0.9531\n",
            "Epoch 4/10\n",
            "6/6 [==============================] - 54s 9s/step - loss: 0.4284 - accuracy: 0.8073 - val_loss: 0.3876 - val_accuracy: 0.9375\n",
            "Epoch 5/10\n",
            "6/6 [==============================] - 50s 8s/step - loss: 0.3639 - accuracy: 0.8594 - val_loss: 0.2923 - val_accuracy: 0.9375\n",
            "Epoch 6/10\n",
            "6/6 [==============================] - 50s 8s/step - loss: 0.2707 - accuracy: 0.9010 - val_loss: 0.2168 - val_accuracy: 0.9219\n",
            "Epoch 7/10\n",
            "6/6 [==============================] - 50s 8s/step - loss: 0.2171 - accuracy: 0.9062 - val_loss: 0.1578 - val_accuracy: 1.0000\n",
            "Epoch 8/10\n",
            "6/6 [==============================] - 50s 8s/step - loss: 0.1781 - accuracy: 0.9375 - val_loss: 0.1255 - val_accuracy: 0.9844\n",
            "Epoch 9/10\n",
            "6/6 [==============================] - 50s 8s/step - loss: 0.1792 - accuracy: 0.9115 - val_loss: 0.0937 - val_accuracy: 0.9688\n",
            "Epoch 10/10\n",
            "6/6 [==============================] - 50s 8s/step - loss: 0.1404 - accuracy: 0.9531 - val_loss: 0.1182 - val_accuracy: 0.9531\n"
          ],
          "name": "stdout"
        }
      ]
    },
    {
      "cell_type": "code",
      "metadata": {
        "colab": {
          "base_uri": "https://localhost:8080/",
          "height": 1000
        },
        "id": "VUkZmmhiV0u3",
        "outputId": "a301e83a-51d8-4d5c-f760-b259bc0ec09d"
      },
      "source": [
        "from tensorflow.keras.utils import plot_model\n",
        "plot_model(model)"
      ],
      "execution_count": null,
      "outputs": [
        {
          "output_type": "execute_result",
          "data": {
            "image/png": "[encoded data removed]",
            "text/plain": [
              "<IPython.core.display.Image object>"
            ]
          },
          "metadata": {
            "tags": []
          },
          "execution_count": 18
        }
      ]
    },
    {
      "cell_type": "code",
      "metadata": {
        "colab": {
          "base_uri": "https://localhost:8080/",
          "height": 475
        },
        "id": "QQ_7uXOiV5S4",
        "outputId": "b5bc2f4a-f491-4b0e-d79d-b096a677cd43"
      },
      "source": [
        "plt.figure(figsize = (13,7))\n",
        "plt.plot(hist.history[\"accuracy\"])\n",
        "plt.plot(hist.history[\"val_accuracy\"])\n",
        "plt.title(\"Model Accuracy\")\n",
        "plt.ylabel(\"Accuracy\")\n",
        "plt.xlabel(\"Epoch\")\n",
        "plt.legend([\"Train\", \"Test\"], loc = \"upper left\")"
      ],
      "execution_count": null,
      "outputs": [
        {
          "output_type": "execute_result",
          "data": {
            "text/plain": [
              "<matplotlib.legend.Legend at 0x7f96472b1ba8>"
            ]
          },
          "metadata": {
            "tags": []
          },
          "execution_count": 19
        },
        {
          "output_type": "display_data",
          "data": {
            "image/png": "[encoded data removed]",
            "text/plain": [
              "<Figure size 936x504 with 1 Axes>"
            ]
          },
          "metadata": {
            "tags": [],
            "needs_background": "light"
          }
        }
      ]
    },
    {
      "cell_type": "code",
      "metadata": {
        "colab": {
          "base_uri": "https://localhost:8080/",
          "height": 475
        },
        "id": "Hz0UFSb9V---",
        "outputId": "13268869-d8cf-484e-9821-9cf56768507b"
      },
      "source": [
        "plt.figure(figsize = (13,7))\n",
        "plt.plot(hist.history[\"loss\"])\n",
        "plt.plot(hist.history[\"val_loss\"])\n",
        "plt.title(\"Model Loss\")\n",
        "plt.ylabel(\"Loss\")\n",
        "plt.xlabel(\"Epoch\")\n",
        "plt.legend([\"Train\", \"Test\"], loc = \"upper left\")"
      ],
      "execution_count": null,
      "outputs": [
        {
          "output_type": "execute_result",
          "data": {
            "text/plain": [
              "<matplotlib.legend.Legend at 0x7f964731f4e0>"
            ]
          },
          "metadata": {
            "tags": []
          },
          "execution_count": 20
        },
        {
          "output_type": "display_data",
          "data": {
            "image/png": "[encoded data removed]",
            "text/plain": [
              "<Figure size 936x504 with 1 Axes>"
            ]
          },
          "metadata": {
            "tags": [],
            "needs_background": "light"
          }
        }
      ]
    },
    {
      "cell_type": "code",
      "metadata": {
        "colab": {
          "base_uri": "https://localhost:8080/"
        },
        "id": "N6gI_BxIWE0E",
        "outputId": "66141c03-0b6e-4ede-c82c-75744ce411e8"
      },
      "source": [
        "model.evaluate_generator(train_generator)"
      ],
      "execution_count": null,
      "outputs": [
        {
          "output_type": "stream",
          "text": [
            "WARNING:tensorflow:From <ipython-input-21-e4ade065aa26>:1: Model.evaluate_generator (from tensorflow.python.keras.engine.training) is deprecated and will be removed in a future version.\n",
            "Instructions for updating:\n",
            "Please use Model.evaluate, which supports generators.\n"
          ],
          "name": "stdout"
        },
        {
          "output_type": "execute_result",
          "data": {
            "text/plain": [
              "[0.12294042855501175, 0.9635416865348816]"
            ]
          },
          "metadata": {
            "tags": []
          },
          "execution_count": 21
        }
      ]
    },
    {
      "cell_type": "code",
      "metadata": {
        "colab": {
          "base_uri": "https://localhost:8080/"
        },
        "id": "aiJ_jf-vWMoz",
        "outputId": "225c5fb6-b11a-43fb-a791-dd33436cffcd"
      },
      "source": [
        "model.evaluate_generator(validation_generator)"
      ],
      "execution_count": null,
      "outputs": [
        {
          "output_type": "execute_result",
          "data": {
            "text/plain": [
              "[0.12191865593194962, 0.9583333134651184]"
            ]
          },
          "metadata": {
            "tags": []
          },
          "execution_count": 22
        }
      ]
    },
    {
      "cell_type": "code",
      "metadata": {
        "id": "u_wIiGO6WTtA"
      },
      "source": [
        "model.save(\"model_adv.h5\")"
      ],
      "execution_count": null,
      "outputs": []
    },
    {
      "cell_type": "code",
      "metadata": {
        "id": "AdmrSjY4WY-X"
      },
      "source": [
        "model = load_model('model_adv.h5')  # model_adv.h5"
      ],
      "execution_count": null,
      "outputs": []
    },
    {
      "cell_type": "code",
      "metadata": {
        "id": "Ts9YETuGWc1A"
      },
      "source": [
        "import os"
      ],
      "execution_count": null,
      "outputs": []
    },
    {
      "cell_type": "code",
      "metadata": {
        "id": "f9hhXSXHWfk_"
      },
      "source": [
        "y_test= []\n",
        "y_actual= []"
      ],
      "execution_count": null,
      "outputs": []
    },
    {
      "cell_type": "code",
      "metadata": {
        "id": "jftTjsGkW-NR"
      },
      "source": [
        "for i in os.listdir(\"./CovidDataset/Val/Normal/\"):\n",
        "  img = image.load_img(\"./CovidDataset/Val/Normal/\"+i, target_size=(224,224))\n",
        "  img= image.img_to_array(img)\n",
        "  img = np.expand_dims(img, axis = 0)\n",
        "  p = int(model.predict(img) > 0.5) \n",
        "  y_test.append(p)                           \n",
        "  y_actual.append(1)"
      ],
      "execution_count": null,
      "outputs": []
    },
    {
      "cell_type": "code",
      "metadata": {
        "id": "0TghuFVfXCuf"
      },
      "source": [
        "for i in os.listdir(\"./CovidDataset/Val/Covid/\"):\n",
        "  img = image.load_img(\"./CovidDataset/Val/Covid/\"+i, target_size=(224,224))\n",
        "  img= image.img_to_array(img)\n",
        "  img = np.expand_dims(img, axis = 0)\n",
        "  p = int(model.predict(img) > 0.5)   \n",
        "  y_test.append(p)             \n",
        "  y_actual.append(0)"
      ],
      "execution_count": null,
      "outputs": []
    },
    {
      "cell_type": "code",
      "metadata": {
        "id": "olaUtPWmXH5W"
      },
      "source": [
        "y_actual = np.array(y_actual)\n",
        "y_test = np.array(y_test)"
      ],
      "execution_count": null,
      "outputs": []
    },
    {
      "cell_type": "code",
      "metadata": {
        "id": "i57JisjGWmh-"
      },
      "source": [
        "from sklearn.metrics import confusion_matrix"
      ],
      "execution_count": null,
      "outputs": []
    },
    {
      "cell_type": "code",
      "metadata": {
        "id": "WLRIjZQaWtFB"
      },
      "source": [
        "cm = confusion_matrix(y_actual ,y_test)"
      ],
      "execution_count": null,
      "outputs": []
    },
    {
      "cell_type": "code",
      "metadata": {
        "id": "bPd4AmDRWv2G"
      },
      "source": [
        "import seaborn as sns "
      ],
      "execution_count": null,
      "outputs": []
    },
    {
      "cell_type": "code",
      "metadata": {
        "colab": {
          "base_uri": "https://localhost:8080/",
          "height": 283
        },
        "id": "GlWUu8zJXT6B",
        "outputId": "d4555144-3f5d-4832-86d8-0e3f6c1a5963"
      },
      "source": [
        "sns.heatmap(cm, cmap=\"plasma\", annot=True)"
      ],
      "execution_count": null,
      "outputs": [
        {
          "output_type": "execute_result",
          "data": {
            "text/plain": [
              "<matplotlib.axes._subplots.AxesSubplot at 0x7f963d73e7f0>"
            ]
          },
          "metadata": {
            "tags": []
          },
          "execution_count": 98
        },
        {
          "output_type": "display_data",
          "data": {
            "image/png": "[encoded data removed]",
            "text/plain": [
              "<Figure size 432x288 with 2 Axes>"
            ]
          },
          "metadata": {
            "tags": [],
            "needs_background": "light"
          }
        }
      ]
    },
    {
      "cell_type": "code",
      "metadata": {
        "colab": {
          "base_uri": "https://localhost:8080/",
          "height": 404
        },
        "id": "yDUUzrFNW04Q",
        "outputId": "4eded692-8661-4385-a252-e4bc43ef1032"
      },
      "source": [
        "f, ax = plt.subplots(figsize = (6,6))\n",
        "sns.heatmap(cm,annot = True, linewidths = 0.3,cmap = \"Blues\",annot_kws = {\"size\": 18}, linecolor = \"black\", fmt = \".0f\", ax=ax )\n",
        "plt.xlabel(\"Prediction\")\n",
        "plt.title(\"Confusion Matrix\")\n",
        "plt.ylabel(\"True\")\n",
        "plt.show()"
      ],
      "execution_count": null,
      "outputs": [
        {
          "output_type": "display_data",
          "data": {
            "image/png": "[encoded data removed]",
            "text/plain": [
              "<Figure size 432x432 with 2 Axes>"
            ]
          },
          "metadata": {
            "tags": [],
            "needs_background": "light"
          }
        }
      ]
    },
    {
      "cell_type": "code",
      "metadata": {
        "id": "QAymebZqac3O"
      },
      "source": [
        "from sklearn.metrics import classification_report"
      ],
      "execution_count": null,
      "outputs": []
    },
    {
      "cell_type": "code",
      "metadata": {
        "colab": {
          "base_uri": "https://localhost:8080/"
        },
        "id": "RGqci_9taOoM",
        "outputId": "eeb788f6-3dc3-4fc0-e8fc-85766b729317"
      },
      "source": [
        "report = classification_report(y_actual, y_test)\n",
        "print(report)"
      ],
      "execution_count": null,
      "outputs": [
        {
          "output_type": "stream",
          "text": [
            "              precision    recall  f1-score   support\n",
            "\n",
            "           0       0.99      0.94      0.96        96\n",
            "           1       0.94      0.99      0.96        96\n",
            "\n",
            "    accuracy                           0.96       192\n",
            "   macro avg       0.96      0.96      0.96       192\n",
            "weighted avg       0.96      0.96      0.96       192\n",
            "\n"
          ],
          "name": "stdout"
        }
      ]
    }
  ]
}